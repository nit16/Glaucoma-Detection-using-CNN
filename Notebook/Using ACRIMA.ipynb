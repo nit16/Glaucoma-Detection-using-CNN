{
 "cells": [
  {
   "cell_type": "markdown",
   "id": "fef0d0df",
   "metadata": {},
   "source": [
    "## USing ACRIMA"
   ]
  },
  {
   "cell_type": "code",
   "execution_count": 1,
   "id": "5c2f55eb",
   "metadata": {},
   "outputs": [],
   "source": [
    "#importing all the necessary libraries\n",
    "import numpy as np\n",
    "import pandas as pd \n",
    "import os\n",
    "from skimage.io import imread\n",
    "from skimage.transform import resize\n",
    "import matplotlib.pyplot as plt\n",
    "from tensorflow import keras\n",
    "import tensorflow as tf\n",
    "from tensorflow.keras import Sequential, layers, Model\n",
    "%matplotlib inline"
   ]
  },
  {
   "cell_type": "code",
   "execution_count": 2,
   "id": "59195aff",
   "metadata": {},
   "outputs": [
    {
     "name": "stderr",
     "output_type": "stream",
     "text": [
      "100%|███████████████████████████████████████████████████████████████████████████████| 396/396 [00:03<00:00, 105.90it/s]\n",
      "100%|███████████████████████████████████████████████████████████████████████████████| 309/309 [00:01<00:00, 191.89it/s]\n"
     ]
    }
   ],
   "source": [
    "#Reading all the images \n",
    "from tqdm import tqdm\n",
    "import cv2\n",
    "DATADIR = r'C:\\Users\\nithu\\Documents\\Project\\Gluacoma Detection\\New folder\\ACRIMA\\Combined'\n",
    "\n",
    "CATEGORIES = [\"Positive\", \"Negative\"]\n",
    "\n",
    "IMAGE_SIZE = (200,200)\n",
    "training_data = []\n",
    "Class = []\n",
    "def create_training_data():\n",
    "    for category in CATEGORIES:  \n",
    "        path = os.path.join(DATADIR,category)  \n",
    "        class_num = CATEGORIES.index(category)  \n",
    "        for img in tqdm(os.listdir(path)[1:]):  \n",
    "            img_array = cv2.imread(os.path.join(path,img))  \n",
    "            new_array = cv2.resize(img_array, (IMAGE_SIZE[0], IMAGE_SIZE[1]))  \n",
    "            training_data.append(new_array) \n",
    "            if category == 'Positive':\n",
    "                Class.append(1)\n",
    "            else:\n",
    "                Class.append(0)\n",
    "\n",
    "create_training_data()"
   ]
  },
  {
   "cell_type": "code",
   "execution_count": 3,
   "id": "a5f08bc6",
   "metadata": {},
   "outputs": [],
   "source": [
    "df = pd.DataFrame({'Images': training_data,\n",
    "                  'Class': Class})"
   ]
  },
  {
   "cell_type": "code",
   "execution_count": 4,
   "id": "d732805f",
   "metadata": {
    "scrolled": true
   },
   "outputs": [
    {
     "data": {
      "text/plain": [
       "1    396\n",
       "0    309\n",
       "Name: Class, dtype: int64"
      ]
     },
     "execution_count": 4,
     "metadata": {},
     "output_type": "execute_result"
    }
   ],
   "source": [
    "df['Class'].value_counts()"
   ]
  },
  {
   "cell_type": "code",
   "execution_count": 5,
   "id": "846b1e18",
   "metadata": {},
   "outputs": [],
   "source": [
    "df['Images'] = df['Images']/255"
   ]
  },
  {
   "cell_type": "code",
   "execution_count": 6,
   "id": "4682976c",
   "metadata": {},
   "outputs": [],
   "source": [
    "x = df['Images']\n",
    "y = df['Class']"
   ]
  },
  {
   "cell_type": "code",
   "execution_count": 7,
   "id": "7a12784e",
   "metadata": {},
   "outputs": [],
   "source": [
    "# Splitting the images into train, test, validation\n",
    "from sklearn.model_selection import train_test_split\n",
    "\n",
    "x_temp, x_test, y_temp, y_test = train_test_split(x,y,test_size=0.2,train_size=0.8)\n",
    "x_train, x_validation, y_train, y_validation = train_test_split(x_temp,y_temp,test_size = 0.2,train_size =0.80)"
   ]
  },
  {
   "cell_type": "code",
   "execution_count": 8,
   "id": "0ce1078e",
   "metadata": {},
   "outputs": [],
   "source": [
    "#Converting to array format\n",
    "X_image_train_stacked = np.stack(x_train.values)\n",
    "X_image_validation_stacked = np.stack(x_validation.values)\n",
    "X_image_test_stacked = np.stack(x_test.values)"
   ]
  },
  {
   "cell_type": "code",
   "execution_count": 18,
   "id": "ca32451c",
   "metadata": {},
   "outputs": [
    {
     "name": "stdout",
     "output_type": "stream",
     "text": [
      "Epoch 1/10\n",
      "15/15 [==============================] - 21s 1s/step - loss: 0.6673 - accuracy: 0.6652 - val_loss: 0.4958 - val_accuracy: 0.7257\n",
      "Epoch 2/10\n",
      "15/15 [==============================] - 15s 957ms/step - loss: 0.5032 - accuracy: 0.7650 - val_loss: 0.4848 - val_accuracy: 0.7345\n",
      "Epoch 3/10\n",
      "15/15 [==============================] - 14s 931ms/step - loss: 0.3737 - accuracy: 0.8426 - val_loss: 0.4514 - val_accuracy: 0.8053\n",
      "Epoch 4/10\n",
      "15/15 [==============================] - 14s 901ms/step - loss: 0.3538 - accuracy: 0.8448 - val_loss: 0.2995 - val_accuracy: 0.8673\n",
      "Epoch 5/10\n",
      "15/15 [==============================] - 13s 880ms/step - loss: 0.2791 - accuracy: 0.8714 - val_loss: 0.3127 - val_accuracy: 0.8850\n",
      "Epoch 6/10\n",
      "15/15 [==============================] - 13s 878ms/step - loss: 0.2690 - accuracy: 0.8803 - val_loss: 0.3285 - val_accuracy: 0.8584\n",
      "Epoch 7/10\n",
      "15/15 [==============================] - 13s 848ms/step - loss: 0.2686 - accuracy: 0.9047 - val_loss: 0.2423 - val_accuracy: 0.9027\n",
      "Epoch 8/10\n",
      "15/15 [==============================] - 13s 870ms/step - loss: 0.2862 - accuracy: 0.8891 - val_loss: 0.2924 - val_accuracy: 0.9027\n",
      "Epoch 9/10\n",
      "15/15 [==============================] - 14s 941ms/step - loss: 0.2111 - accuracy: 0.9135 - val_loss: 0.2407 - val_accuracy: 0.8761\n",
      "Epoch 10/10\n",
      "15/15 [==============================] - 15s 1s/step - loss: 0.1902 - accuracy: 0.9113 - val_loss: 0.2600 - val_accuracy: 0.9027\n"
     ]
    }
   ],
   "source": [
    "#Training the model\n",
    "model = Sequential([layers.Conv2D(filters=32, kernel_size=(3,3), padding='valid', activation='relu'),\n",
    "  layers.MaxPooling2D(),\n",
    "  layers.Conv2D(filters=64, kernel_size=(3,3), padding='valid', activation='relu'),\n",
    "  layers.MaxPooling2D(),\n",
    "  layers.Conv2D(filters=32, kernel_size=(3,3), padding='valid', activation='relu'),\n",
    "  layers.MaxPooling2D(),\n",
    "\n",
    "                    \n",
    "  layers.Flatten(),\n",
    "  layers.Dense(256, activation='relu'),                \n",
    "  layers.Dense(128, activation='relu'),\n",
    "  layers.Dense(64, activation='relu'),\n",
    "  layers.Dense(2, activation='sigmoid')\n",
    "])\n",
    "\n",
    "model.compile(optimizer='adam', loss='sparse_categorical_crossentropy', metrics=['accuracy'])\n",
    "              \n",
    "hist=model.fit(X_image_train_stacked, y_train, epochs=10, validation_data=(X_image_validation_stacked,y_validation)) "
   ]
  },
  {
   "cell_type": "code",
   "execution_count": 19,
   "id": "da927087",
   "metadata": {},
   "outputs": [
    {
     "data": {
      "image/png": "[encoded data removed]",
      "text/plain": [
       "<Figure size 432x288 with 1 Axes>"
      ]
     },
     "metadata": {
      "needs_background": "light"
     },
     "output_type": "display_data"
    }
   ],
   "source": [
    "fig = plt.figure()\n",
    "plt.plot(hist.history['loss'], color='teal', label='loss')\n",
    "plt.plot(hist.history['val_loss'], color='orange', label='val_loss')\n",
    "fig.suptitle('Loss', fontsize=20)\n",
    "plt.xlabel('Epoch')\n",
    "plt.ylabel('Loss')\n",
    "plt.legend(loc=\"upper left\")\n",
    "plt.show()"
   ]
  },
  {
   "cell_type": "code",
   "execution_count": 20,
   "id": "e17c7a77",
   "metadata": {},
   "outputs": [
    {
     "data": {
      "image/png": "[encoded data removed]",
      "text/plain": [
       "<Figure size 432x288 with 1 Axes>"
      ]
     },
     "metadata": {
      "needs_background": "light"
     },
     "output_type": "display_data"
    }
   ],
   "source": [
    "fig = plt.figure()\n",
    "plt.plot(hist.history['accuracy'], color='teal', label='accuracy')\n",
    "plt.plot(hist.history['val_accuracy'], color='orange', label='val_accuracy')\n",
    "fig.suptitle('Accuracy', fontsize=20)\n",
    "plt.xlabel('Epoch')\n",
    "plt.ylabel('Loss')\n",
    "plt.legend(loc=\"upper left\")\n",
    "plt.show()"
   ]
  },
  {
   "cell_type": "code",
   "execution_count": 21,
   "id": "c2ca1eaf",
   "metadata": {},
   "outputs": [
    {
     "name": "stdout",
     "output_type": "stream",
     "text": [
      "5/5 [==============================] - 1s 128ms/step - loss: 0.1788 - accuracy: 0.9574\n"
     ]
    },
    {
     "data": {
      "text/plain": [
       "[0.17877738177776337, 0.957446813583374]"
      ]
     },
     "execution_count": 21,
     "metadata": {},
     "output_type": "execute_result"
    }
   ],
   "source": [
    "#Evaluating the accuracy for the model\n",
    "model.evaluate(X_image_test_stacked,y_test)"
   ]
  },
  {
   "cell_type": "code",
   "execution_count": 22,
   "id": "8e0ca9d2",
   "metadata": {},
   "outputs": [
    {
     "name": "stdout",
     "output_type": "stream",
     "text": [
      "5/5 [==============================] - 1s 129ms/step\n"
     ]
    }
   ],
   "source": [
    "#Predicting for test dataset\n",
    "y_pred = model.predict(X_image_test_stacked)\n",
    "y_pred_conv = []\n",
    "for i in y_pred:\n",
    "    if i[0] > i[1]:\n",
    "        y_pred_conv.append(0)\n",
    "    else:\n",
    "        y_pred_conv.append(1)"
   ]
  },
  {
   "cell_type": "code",
   "execution_count": 23,
   "id": "33f6157e",
   "metadata": {},
   "outputs": [
    {
     "name": "stdout",
     "output_type": "stream",
     "text": [
      "ACCURACY SCORE:  0.9574468085106383\n",
      "\n",
      "CLASSIFICATION REPORT:\n",
      "              precision    recall  f1-score   support\n",
      "\n",
      "           0       0.94      0.97      0.96        70\n",
      "           1       0.97      0.94      0.96        71\n",
      "\n",
      "    accuracy                           0.96       141\n",
      "   macro avg       0.96      0.96      0.96       141\n",
      "weighted avg       0.96      0.96      0.96       141\n",
      "\n",
      "CONFUSION MATRIX:\n"
     ]
    },
    {
     "data": {
      "image/png": "[encoded data removed]",
      "text/plain": [
       "<Figure size 432x288 with 2 Axes>"
      ]
     },
     "metadata": {
      "needs_background": "light"
     },
     "output_type": "display_data"
    }
   ],
   "source": [
    "#Plotting confusion martix and classification report\n",
    "from sklearn.metrics import accuracy_score\n",
    "from sklearn.metrics import classification_report \n",
    "from sklearn.metrics import confusion_matrix\n",
    "from sklearn.metrics import ConfusionMatrixDisplay\n",
    "\n",
    "\n",
    "print(\"ACCURACY SCORE: \", accuracy_score(y_test,y_pred_conv))\n",
    "print()\n",
    "print(\"CLASSIFICATION REPORT:\")\n",
    "print(classification_report(y_test,y_pred_conv))\n",
    "a = confusion_matrix(y_test,y_pred_conv)\n",
    "result = ConfusionMatrixDisplay(a)\n",
    "print(\"CONFUSION MATRIX:\")\n",
    "result.plot()\n",
    "plt.show()"
   ]
  }
 ],
 "metadata": {
  "kernelspec": {
   "display_name": "Python 3 (ipykernel)",
   "language": "python",
   "name": "python3"
  },
  "language_info": {
   "codemirror_mode": {
    "name": "ipython",
    "version": 3
   },
   "file_extension": ".py",
   "mimetype": "text/x-python",
   "name": "python",
   "nbconvert_exporter": "python",
   "pygments_lexer": "ipython3",
   "version": "3.9.12"
  }
 },
 "nbformat": 4,
 "nbformat_minor": 5
}
