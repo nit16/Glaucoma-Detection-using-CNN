{
 "cells": [
  {
   "cell_type": "markdown",
   "id": "8d7b3864",
   "metadata": {},
   "source": [
    "## Glaucoma Detection on Imbalanced dataset and by using 2 sets of Augmentation"
   ]
  },
  {
   "cell_type": "markdown",
   "id": "88fe713e",
   "metadata": {},
   "source": [
    "### Without Augmentation on imbalanced dataset"
   ]
  },
  {
   "cell_type": "code",
   "execution_count": 2,
   "id": "77098987",
   "metadata": {},
   "outputs": [],
   "source": [
    "#Importing necessary Libraries\n",
    "import numpy as np\n",
    "import pandas as pd \n",
    "import os\n",
    "from skimage import io\n",
    "from skimage.transform import resize\n",
    "import matplotlib.pyplot as plt\n",
    "from tensorflow import keras\n",
    "import tensorflow as tf\n",
    "from tensorflow.keras import Sequential, layers, Model\n",
    "%matplotlib inline\n",
    "from tqdm import tqdm\n",
    "import cv2"
   ]
  },
  {
   "cell_type": "code",
   "execution_count": 2,
   "id": "0ed9ceaf",
   "metadata": {},
   "outputs": [
    {
     "name": "stderr",
     "output_type": "stream",
     "text": [
      "100%|████████████████████████████████████████████████████████████████████████████████| 166/166 [00:08<00:00, 20.28it/s]\n",
      "100%|████████████████████████████████████████████████████████████████████████████████| 481/481 [00:33<00:00, 14.20it/s]\n"
     ]
    }
   ],
   "source": [
    "DATADIR = r'C:\\Users\\nithu\\Documents\\Project\\Gluacoma Detection\\New folder\\Fundus_Train_Val_Data\\Fundus_Combined'\n",
    "\n",
    "CATEGORIES = [\"Positive\", \"Negative\"]\n",
    "\n",
    "IMAGE_SIZE = (200,200)\n",
    "training_data = []\n",
    "Class = []\n",
    "\n",
    "#Function to read the image\n",
    "def create_training_data():\n",
    "    for category in CATEGORIES:  \n",
    "\n",
    "        path = os.path.join(DATADIR,category)  \n",
    "        class_num = CATEGORIES.index(category)  \n",
    "        \n",
    "        #reading and resizing the image\n",
    "        for img in tqdm(os.listdir(path)[1:]):  \n",
    "            img_array = cv2.imread(os.path.join(path,img))  \n",
    "            new_array = cv2.resize(img_array, (IMAGE_SIZE[0], IMAGE_SIZE[1]))  \n",
    "\n",
    "             #Storing the image in a list   \n",
    "            training_data.append(new_array) \n",
    "            #Storing the class of the image in a seperate list\n",
    "            if category == 'Positive':\n",
    "                Class.append(1)\n",
    "            else:\n",
    "                Class.append(0)\n",
    "\n",
    "create_training_data()"
   ]
  },
  {
   "cell_type": "code",
   "execution_count": 3,
   "id": "435ee6f9",
   "metadata": {},
   "outputs": [],
   "source": [
    "# Converting both the list into dataframe\n",
    "df = pd.DataFrame({'Images': training_data,\n",
    "                  'Class': Class})"
   ]
  },
  {
   "cell_type": "code",
   "execution_count": 4,
   "id": "676e1462",
   "metadata": {},
   "outputs": [
    {
     "data": {
      "text/plain": [
       "0    481\n",
       "1    166\n",
       "Name: Class, dtype: int64"
      ]
     },
     "execution_count": 4,
     "metadata": {},
     "output_type": "execute_result"
    }
   ],
   "source": [
    "df['Class'].value_counts()"
   ]
  },
  {
   "cell_type": "code",
   "execution_count": 5,
   "id": "2e71b0a1",
   "metadata": {},
   "outputs": [],
   "source": [
    "#Normalising the image\n",
    "df['Images'] = df['Images']/255\n",
    "\n",
    "x = df['Images']\n",
    "y = df['Class']\n",
    "\n",
    "\n",
    "#Splitting the image into train, test, and validation\n",
    "from sklearn.model_selection import train_test_split\n",
    "\n",
    "x_temp, x_test, y_temp, y_test = train_test_split(x,y,test_size=0.2,train_size=0.8)\n",
    "x_train, x_validation, y_train, y_validation = train_test_split(x_temp,y_temp,test_size = 0.2,train_size =0.80)"
   ]
  },
  {
   "cell_type": "code",
   "execution_count": 6,
   "id": "2f8fb3d0",
   "metadata": {},
   "outputs": [
    {
     "data": {
      "text/plain": [
       "0    310\n",
       "1    103\n",
       "Name: Class, dtype: int64"
      ]
     },
     "execution_count": 6,
     "metadata": {},
     "output_type": "execute_result"
    }
   ],
   "source": [
    "y_train.value_counts()"
   ]
  },
  {
   "cell_type": "code",
   "execution_count": 7,
   "id": "c21386d2",
   "metadata": {},
   "outputs": [
    {
     "data": {
      "text/plain": [
       "0    98\n",
       "1    32\n",
       "Name: Class, dtype: int64"
      ]
     },
     "execution_count": 7,
     "metadata": {},
     "output_type": "execute_result"
    }
   ],
   "source": [
    "y_test.value_counts()"
   ]
  },
  {
   "cell_type": "code",
   "execution_count": 8,
   "id": "77a5f948",
   "metadata": {},
   "outputs": [
    {
     "data": {
      "text/plain": [
       "0    73\n",
       "1    31\n",
       "Name: Class, dtype: int64"
      ]
     },
     "execution_count": 8,
     "metadata": {},
     "output_type": "execute_result"
    }
   ],
   "source": [
    "y_validation.value_counts()"
   ]
  },
  {
   "cell_type": "code",
   "execution_count": 9,
   "id": "d0da6b53",
   "metadata": {},
   "outputs": [],
   "source": [
    "#Converting the dataframe into array format\n",
    "X_image_train_stacked = np.stack(x_train.values)\n",
    "X_image_validation_stacked = np.stack(x_validation.values)\n",
    "X_image_test_stacked = np.stack(x_test.values)"
   ]
  },
  {
   "cell_type": "code",
   "execution_count": 10,
   "id": "950817d2",
   "metadata": {},
   "outputs": [
    {
     "data": {
      "text/plain": [
       "(413,)"
      ]
     },
     "execution_count": 10,
     "metadata": {},
     "output_type": "execute_result"
    }
   ],
   "source": [
    "x_train.shape"
   ]
  },
  {
   "cell_type": "code",
   "execution_count": 11,
   "id": "cba4afca",
   "metadata": {},
   "outputs": [
    {
     "data": {
      "text/plain": [
       "(413, 200, 200, 3)"
      ]
     },
     "execution_count": 11,
     "metadata": {},
     "output_type": "execute_result"
    }
   ],
   "source": [
    "X_image_train_stacked.shape"
   ]
  },
  {
   "cell_type": "code",
   "execution_count": 12,
   "id": "1a89d95d",
   "metadata": {},
   "outputs": [
    {
     "name": "stdout",
     "output_type": "stream",
     "text": [
      "Epoch 1/10\n",
      "13/13 [==============================] - 15s 992ms/step - loss: 0.6614 - accuracy: 0.7167 - val_loss: 0.6202 - val_accuracy: 0.7019\n",
      "Epoch 2/10\n",
      "13/13 [==============================] - 13s 1s/step - loss: 0.5697 - accuracy: 0.7506 - val_loss: 0.6504 - val_accuracy: 0.7019\n",
      "Epoch 3/10\n",
      "13/13 [==============================] - 11s 877ms/step - loss: 0.5537 - accuracy: 0.7506 - val_loss: 0.6101 - val_accuracy: 0.7019\n",
      "Epoch 4/10\n",
      "13/13 [==============================] - 14s 1s/step - loss: 0.5640 - accuracy: 0.7506 - val_loss: 0.6001 - val_accuracy: 0.7019\n",
      "Epoch 5/10\n",
      "13/13 [==============================] - 13s 1s/step - loss: 0.5564 - accuracy: 0.7506 - val_loss: 0.6094 - val_accuracy: 0.7019\n",
      "Epoch 6/10\n",
      "13/13 [==============================] - 12s 893ms/step - loss: 0.5604 - accuracy: 0.7506 - val_loss: 0.5977 - val_accuracy: 0.7019\n",
      "Epoch 7/10\n",
      "13/13 [==============================] - 12s 899ms/step - loss: 0.5748 - accuracy: 0.7506 - val_loss: 0.5928 - val_accuracy: 0.7019\n",
      "Epoch 8/10\n",
      "13/13 [==============================] - 12s 891ms/step - loss: 0.5494 - accuracy: 0.7506 - val_loss: 0.5895 - val_accuracy: 0.7019\n",
      "Epoch 9/10\n",
      "13/13 [==============================] - 11s 890ms/step - loss: 0.5433 - accuracy: 0.7554 - val_loss: 0.6490 - val_accuracy: 0.6923\n",
      "Epoch 10/10\n",
      "13/13 [==============================] - 11s 881ms/step - loss: 0.5597 - accuracy: 0.7482 - val_loss: 0.6235 - val_accuracy: 0.7019\n"
     ]
    }
   ],
   "source": [
    "#Training the CNN model\n",
    "model = Sequential([layers.Conv2D(filters=32, kernel_size=(3,3), activation='relu'),\n",
    "  layers.MaxPooling2D(),\n",
    "  layers.Conv2D(filters=64, kernel_size=(3,3), activation='relu'),\n",
    "  layers.MaxPooling2D(),\n",
    "  layers.Conv2D(filters=128, kernel_size=(3,3), activation='relu'),\n",
    "  layers.MaxPooling2D(),\n",
    "\n",
    "  layers.Flatten(),\n",
    "  layers.Dense(256, activation='relu'),                \n",
    "  layers.Dense(128, activation='relu'),\n",
    "  layers.Dense(64, activation='relu'),\n",
    "  layers.Dense(2, activation='sigmoid')\n",
    "])\n",
    "\n",
    "model.compile(optimizer='adam', loss='sparse_categorical_crossentropy', metrics=['accuracy'])\n",
    "              \n",
    "hist=model.fit(X_image_train_stacked, y_train, epochs=10, validation_data=(X_image_validation_stacked,y_validation)) "
   ]
  },
  {
   "cell_type": "code",
   "execution_count": 13,
   "id": "95b87789",
   "metadata": {},
   "outputs": [
    {
     "name": "stdout",
     "output_type": "stream",
     "text": [
      "Model: \"sequential\"\n",
      "_________________________________________________________________\n",
      " Layer (type)                Output Shape              Param #   \n",
      "=================================================================\n",
      " conv2d (Conv2D)             (None, 198, 198, 32)      896       \n",
      "                                                                 \n",
      " max_pooling2d (MaxPooling2D  (None, 99, 99, 32)       0         \n",
      " )                                                               \n",
      "                                                                 \n",
      " conv2d_1 (Conv2D)           (None, 97, 97, 64)        18496     \n",
      "                                                                 \n",
      " max_pooling2d_1 (MaxPooling  (None, 48, 48, 64)       0         \n",
      " 2D)                                                             \n",
      "                                                                 \n",
      " conv2d_2 (Conv2D)           (None, 46, 46, 128)       73856     \n",
      "                                                                 \n",
      " max_pooling2d_2 (MaxPooling  (None, 23, 23, 128)      0         \n",
      " 2D)                                                             \n",
      "                                                                 \n",
      " flatten (Flatten)           (None, 67712)             0         \n",
      "                                                                 \n",
      " dense (Dense)               (None, 256)               17334528  \n",
      "                                                                 \n",
      " dense_1 (Dense)             (None, 128)               32896     \n",
      "                                                                 \n",
      " dense_2 (Dense)             (None, 64)                8256      \n",
      "                                                                 \n",
      " dense_3 (Dense)             (None, 2)                 130       \n",
      "                                                                 \n",
      "=================================================================\n",
      "Total params: 17,469,058\n",
      "Trainable params: 17,469,058\n",
      "Non-trainable params: 0\n",
      "_________________________________________________________________\n",
      "None\n"
     ]
    }
   ],
   "source": [
    "print(model.summary())"
   ]
  },
  {
   "cell_type": "code",
   "execution_count": 14,
   "id": "7423f4fa",
   "metadata": {},
   "outputs": [
    {
     "data": {
      "image/png": "[encoded data removed]",
      "text/plain": [
       "<Figure size 432x288 with 1 Axes>"
      ]
     },
     "metadata": {
      "needs_background": "light"
     },
     "output_type": "display_data"
    }
   ],
   "source": [
    "#Plot for loss vs epoch of the model\n",
    "fig = plt.figure()\n",
    "plt.plot(hist.history['loss'], color='teal', label='loss')\n",
    "plt.plot(hist.history['val_loss'], color='orange', label='val_loss')\n",
    "fig.suptitle('Loss vs Epoch', fontsize=20)\n",
    "plt.xlabel('Epoch')\n",
    "plt.ylabel('Loss')\n",
    "plt.legend(loc=\"upper left\")\n",
    "plt.show()"
   ]
  },
  {
   "cell_type": "code",
   "execution_count": 15,
   "id": "e7370c64",
   "metadata": {},
   "outputs": [
    {
     "data": {
      "image/png": "[encoded data removed]",
      "text/plain": [
       "<Figure size 432x288 with 1 Axes>"
      ]
     },
     "metadata": {
      "needs_background": "light"
     },
     "output_type": "display_data"
    }
   ],
   "source": [
    "#Plot for Epoch vs Accuracy of the model\n",
    "fig = plt.figure()\n",
    "plt.plot(hist.history['accuracy'], color='teal', label='accuracy')\n",
    "plt.plot(hist.history['val_accuracy'], color='orange', label='val_accuracy')\n",
    "fig.suptitle('Accuracy vs Epoch', fontsize=20)\n",
    "plt.xlabel('Epoch')\n",
    "plt.ylabel('Accuracy')\n",
    "plt.legend(loc=\"upper left\")\n",
    "plt.show()"
   ]
  },
  {
   "cell_type": "markdown",
   "id": "a23e9bbe",
   "metadata": {},
   "source": [
    "#### Model Evaluation"
   ]
  },
  {
   "cell_type": "code",
   "execution_count": 16,
   "id": "6e431da8",
   "metadata": {},
   "outputs": [
    {
     "name": "stdout",
     "output_type": "stream",
     "text": [
      "5/5 [==============================] - 1s 137ms/step - loss: 0.5969 - accuracy: 0.7538\n"
     ]
    },
    {
     "data": {
      "text/plain": [
       "[0.5969107747077942, 0.7538461685180664]"
      ]
     },
     "execution_count": 16,
     "metadata": {},
     "output_type": "execute_result"
    }
   ],
   "source": [
    "#Printing the accuracy of the model\n",
    "model.evaluate(X_image_test_stacked,y_test)"
   ]
  },
  {
   "cell_type": "code",
   "execution_count": 17,
   "id": "61d73a7d",
   "metadata": {},
   "outputs": [
    {
     "name": "stdout",
     "output_type": "stream",
     "text": [
      "5/5 [==============================] - 1s 135ms/step\n"
     ]
    }
   ],
   "source": [
    "#Predicting for the test dataset\n",
    "y_pred = model.predict(X_image_test_stacked)\n",
    "y_pred_conv = []\n",
    "for i in y_pred:\n",
    "    if i[0] > i[1]:\n",
    "        y_pred_conv.append(0)\n",
    "    else:\n",
    "        y_pred_conv.append(1)"
   ]
  },
  {
   "cell_type": "code",
   "execution_count": 18,
   "id": "49b26095",
   "metadata": {},
   "outputs": [
    {
     "name": "stdout",
     "output_type": "stream",
     "text": [
      "ACCURACY SCORE:  0.7538461538461538\n",
      "F1 score:  0.0\n",
      "\n",
      "CLASSIFICATION REPORT:\n",
      "              precision    recall  f1-score   support\n",
      "\n",
      "           0       0.75      1.00      0.86        98\n",
      "           1       0.00      0.00      0.00        32\n",
      "\n",
      "    accuracy                           0.75       130\n",
      "   macro avg       0.38      0.50      0.43       130\n",
      "weighted avg       0.57      0.75      0.65       130\n",
      "\n",
      "CONFUSION MATRIX:\n"
     ]
    },
    {
     "name": "stderr",
     "output_type": "stream",
     "text": [
      "C:\\Users\\nithu\\anaconda3\\lib\\site-packages\\sklearn\\metrics\\_classification.py:1318: UndefinedMetricWarning: Precision and F-score are ill-defined and being set to 0.0 in labels with no predicted samples. Use `zero_division` parameter to control this behavior.\n",
      "  _warn_prf(average, modifier, msg_start, len(result))\n",
      "C:\\Users\\nithu\\anaconda3\\lib\\site-packages\\sklearn\\metrics\\_classification.py:1318: UndefinedMetricWarning: Precision and F-score are ill-defined and being set to 0.0 in labels with no predicted samples. Use `zero_division` parameter to control this behavior.\n",
      "  _warn_prf(average, modifier, msg_start, len(result))\n",
      "C:\\Users\\nithu\\anaconda3\\lib\\site-packages\\sklearn\\metrics\\_classification.py:1318: UndefinedMetricWarning: Precision and F-score are ill-defined and being set to 0.0 in labels with no predicted samples. Use `zero_division` parameter to control this behavior.\n",
      "  _warn_prf(average, modifier, msg_start, len(result))\n"
     ]
    },
    {
     "data": {
      "image/png": "[encoded data removed]",
      "text/plain": [
       "<Figure size 432x288 with 2 Axes>"
      ]
     },
     "metadata": {
      "needs_background": "light"
     },
     "output_type": "display_data"
    }
   ],
   "source": [
    "#Printing the classification report and confusion matrix\n",
    "from sklearn.metrics import accuracy_score\n",
    "from sklearn.metrics import classification_report \n",
    "from sklearn.metrics import confusion_matrix\n",
    "from sklearn.metrics import ConfusionMatrixDisplay\n",
    "from sklearn.metrics import f1_score\n",
    "\n",
    "print(\"ACCURACY SCORE: \", accuracy_score(y_test,y_pred_conv))\n",
    "print('F1 score: ', f1_score(y_test,y_pred_conv))\n",
    "print()\n",
    "print(\"CLASSIFICATION REPORT:\")\n",
    "print(classification_report(y_test,y_pred_conv))\n",
    "a = confusion_matrix(y_test,y_pred_conv)\n",
    "result = ConfusionMatrixDisplay(a)\n",
    "print(\"CONFUSION MATRIX:\")\n",
    "result.plot()\n",
    "plt.show()"
   ]
  },
  {
   "cell_type": "markdown",
   "id": "fd73559e",
   "metadata": {},
   "source": [
    "## Augmentation 1 (Using rotation, shift, shear, zoom, flip)"
   ]
  },
  {
   "cell_type": "code",
   "execution_count": 3,
   "id": "ec66cda4",
   "metadata": {},
   "outputs": [
    {
     "data": {
      "text/plain": [
       "200"
      ]
     },
     "execution_count": 3,
     "metadata": {},
     "output_type": "execute_result"
    }
   ],
   "source": [
    "#Declaring the image size\n",
    "IMAGE_SIZE = (200,200)\n",
    "IMAGE_SIZE[1]"
   ]
  },
  {
   "cell_type": "code",
   "execution_count": 4,
   "id": "edbd8a97",
   "metadata": {},
   "outputs": [],
   "source": [
    "from keras.preprocessing.image import ImageDataGenerator\n",
    "import cv2\n",
    "from skimage import io"
   ]
  },
  {
   "cell_type": "code",
   "execution_count": 6,
   "id": "3e5ea5c0",
   "metadata": {},
   "outputs": [],
   "source": [
    "#USing image data generator from keras for augmentation\n",
    "datagen = ImageDataGenerator(\n",
    "        rotation_range=15,     \n",
    "        width_shift_range=0.2,   \n",
    "        height_shift_range=0.2,\n",
    "        shear_range=0.2,\n",
    "        zoom_range=0.2,\n",
    "        horizontal_flip=True,\n",
    "        fill_mode='constant')"
   ]
  },
  {
   "cell_type": "code",
   "execution_count": 7,
   "id": "751d0a83",
   "metadata": {},
   "outputs": [],
   "source": [
    "#Reading only the positive images from the directory\n",
    "import os\n",
    "from PIL import Image\n",
    "import numpy as np\n",
    "\n",
    "image_directory = r'C:\\Users\\nithu\\Documents\\Project\\Gluacoma Detection\\New folder\\Fundus_Train_Val_Data\\Fundus_Combined\\Positive/'\n",
    "dataset = []\n",
    "my_images = os.listdir(image_directory)\n",
    "\n",
    "#Iterating through each images in the directory\n",
    "for i, image_name in enumerate(my_images):\n",
    "    if (image_name.split('.')[1] == 'jpg'):\n",
    "        #Reading the image\n",
    "        image = io.imread(image_directory + image_name)\n",
    "        image = Image.fromarray(image, 'RGB')\n",
    "        #Resizing the image\n",
    "        image = image.resize((IMAGE_SIZE[0],IMAGE_SIZE[1]))\n",
    "        #Appending to a list\n",
    "        dataset.append(np.array(image))\n",
    "\n",
    "x = np.array(dataset)"
   ]
  },
  {
   "cell_type": "code",
   "execution_count": 8,
   "id": "6ee79270",
   "metadata": {},
   "outputs": [],
   "source": [
    "i = 0\n",
    "#To generate batches of augmented data and saving the augmented images in the given directory\n",
    "for batch in datagen.flow(x, batch_size=20,  \n",
    "                          save_to_dir=r'C:\\Users\\nithu\\Documents\\Project\\Gluacoma Detection\\New folder\\Fundus_Train_Val_Data\\Fundus_Combined\\Augmnented_images_Positive', \n",
    "                          save_prefix='aug', \n",
    "                          save_format='jpg'):\n",
    "    i += 1\n",
    "    if i > 16:\n",
    "        break  # To break the loop, otherwise the generator would loop indefinitely  "
   ]
  },
  {
   "cell_type": "code",
   "execution_count": 9,
   "id": "44fc7f9d",
   "metadata": {},
   "outputs": [
    {
     "name": "stderr",
     "output_type": "stream",
     "text": [
      "100%|████████████████████████████████████████████████████████████████████████████████| 166/166 [00:10<00:00, 15.14it/s]\n",
      "100%|████████████████████████████████████████████████████████████████████████████████| 481/481 [00:32<00:00, 14.86it/s]\n",
      "100%|██████████████████████████████████████████████████████████████████████████████| 326/326 [00:00<00:00, 1008.20it/s]\n"
     ]
    }
   ],
   "source": [
    "#Reading all the images including the augmented images\n",
    "from tqdm import tqdm\n",
    "import cv2\n",
    "DATADIR = r'C:\\Users\\nithu\\Documents\\Project\\Gluacoma Detection\\New folder\\Fundus_Train_Val_Data\\Fundus_Combined'\n",
    "\n",
    "CATEGORIES = [\"Positive\", \"Negative\",\"Augmented_images_Positive\"]\n",
    "\n",
    "IMAGE_SIZE = (200,200)\n",
    "training_data = []\n",
    "Class = []\n",
    "def create_training_data():\n",
    "    for category in CATEGORIES:  \n",
    "\n",
    "        path = os.path.join(DATADIR,category)  \n",
    "        class_num = CATEGORIES.index(category)  \n",
    "\n",
    "        for img in tqdm(os.listdir(path)[1:]):  \n",
    "            img_array = cv2.imread(os.path.join(path,img))  \n",
    "            new_array = cv2.resize(img_array, (IMAGE_SIZE[0], IMAGE_SIZE[1]))  \n",
    "\n",
    "                \n",
    "            training_data.append(new_array)  \n",
    "            if category == 'Positive':\n",
    "                Class.append(1)\n",
    "            elif category == 'Augmented_images_Positive':\n",
    "                Class.append(1)\n",
    "            else:\n",
    "                Class.append(0)\n",
    "\n",
    "create_training_data()"
   ]
  },
  {
   "cell_type": "code",
   "execution_count": 10,
   "id": "c139cac9",
   "metadata": {},
   "outputs": [],
   "source": [
    "df = pd.DataFrame({'Images': training_data,\n",
    "                  'Class': Class})"
   ]
  },
  {
   "cell_type": "code",
   "execution_count": 11,
   "id": "adf42b7c",
   "metadata": {},
   "outputs": [
    {
     "data": {
      "text/plain": [
       "1    492\n",
       "0    481\n",
       "Name: Class, dtype: int64"
      ]
     },
     "execution_count": 11,
     "metadata": {},
     "output_type": "execute_result"
    }
   ],
   "source": [
    "df['Class'].value_counts()"
   ]
  },
  {
   "cell_type": "code",
   "execution_count": 12,
   "id": "e608e2c7",
   "metadata": {},
   "outputs": [],
   "source": [
    "df['Images'] = df['Images']/255\n",
    "x = df['Images']\n",
    "y = df['Class']\n",
    "\n",
    "#Splitting the data\n",
    "from sklearn.model_selection import train_test_split\n",
    "\n",
    "x_temp, x_test, y_temp, y_test = train_test_split(x,y,test_size=0.2,train_size=0.8)\n",
    "x_train, x_validation, y_train, y_validation = train_test_split(x_temp,y_temp,test_size = 0.2,train_size =0.80)"
   ]
  },
  {
   "cell_type": "code",
   "execution_count": 13,
   "id": "500dfb4e",
   "metadata": {},
   "outputs": [],
   "source": [
    "X_image_train_stacked = np.stack(x_train.values)\n",
    "X_image_validation_stacked = np.stack(x_validation.values)\n",
    "X_image_test_stacked = np.stack(x_test.values)"
   ]
  },
  {
   "cell_type": "code",
   "execution_count": 14,
   "id": "696cc1ca",
   "metadata": {},
   "outputs": [
    {
     "name": "stdout",
     "output_type": "stream",
     "text": [
      "Epoch 1/10\n",
      "20/20 [==============================] - 20s 931ms/step - loss: 0.6792 - accuracy: 0.7395 - val_loss: 0.4001 - val_accuracy: 0.8269\n",
      "Epoch 2/10\n",
      "20/20 [==============================] - 18s 890ms/step - loss: 0.4013 - accuracy: 0.8215 - val_loss: 0.4217 - val_accuracy: 0.8141\n",
      "Epoch 3/10\n",
      "20/20 [==============================] - 18s 883ms/step - loss: 0.3872 - accuracy: 0.8296 - val_loss: 0.3953 - val_accuracy: 0.8205\n",
      "Epoch 4/10\n",
      "20/20 [==============================] - 18s 916ms/step - loss: 0.3994 - accuracy: 0.8248 - val_loss: 0.4062 - val_accuracy: 0.8141\n",
      "Epoch 5/10\n",
      "20/20 [==============================] - 18s 885ms/step - loss: 0.4047 - accuracy: 0.8280 - val_loss: 0.4045 - val_accuracy: 0.8205\n",
      "Epoch 6/10\n",
      "20/20 [==============================] - 17s 868ms/step - loss: 0.3955 - accuracy: 0.8232 - val_loss: 0.4087 - val_accuracy: 0.8205\n",
      "Epoch 7/10\n",
      "20/20 [==============================] - 18s 914ms/step - loss: 0.3766 - accuracy: 0.8296 - val_loss: 0.3960 - val_accuracy: 0.8269\n",
      "Epoch 8/10\n",
      "20/20 [==============================] - 18s 878ms/step - loss: 0.3773 - accuracy: 0.8344 - val_loss: 0.3992 - val_accuracy: 0.8205\n",
      "Epoch 9/10\n",
      "20/20 [==============================] - 18s 889ms/step - loss: 0.3759 - accuracy: 0.8312 - val_loss: 0.4018 - val_accuracy: 0.8205\n",
      "Epoch 10/10\n",
      "20/20 [==============================] - 18s 880ms/step - loss: 0.3740 - accuracy: 0.8296 - val_loss: 0.4166 - val_accuracy: 0.8013\n"
     ]
    }
   ],
   "source": [
    "#training the CNN model\n",
    "model2 = Sequential([layers.Conv2D(filters=32, kernel_size=(3,3), activation='relu'),\n",
    "  layers.MaxPooling2D(),\n",
    "  layers.Conv2D(filters=64, kernel_size=(3,3), activation='relu'),\n",
    "  layers.MaxPooling2D(),\n",
    "  layers.Conv2D(filters=128, kernel_size=(3,3), activation='relu'),\n",
    "  layers.MaxPooling2D(),\n",
    "\n",
    "  layers.Flatten(),\n",
    "  layers.Dense(256, activation='relu'),                \n",
    "  layers.Dense(128, activation='relu'),\n",
    "  layers.Dense(64, activation='relu'),\n",
    "  layers.Dense(2, activation='sigmoid')\n",
    "])\n",
    "\n",
    "model2.compile(optimizer='adam', loss='sparse_categorical_crossentropy', metrics=['accuracy'])\n",
    "              \n",
    "hist2=model2.fit(X_image_train_stacked, y_train, epochs=10, validation_data=(X_image_validation_stacked,y_validation)) "
   ]
  },
  {
   "cell_type": "code",
   "execution_count": 15,
   "id": "741fdaf7",
   "metadata": {},
   "outputs": [
    {
     "data": {
      "image/png": "[encoded data removed]",
      "text/plain": [
       "<Figure size 432x288 with 1 Axes>"
      ]
     },
     "metadata": {
      "needs_background": "light"
     },
     "output_type": "display_data"
    }
   ],
   "source": [
    "fig = plt.figure()\n",
    "plt.plot(hist2.history['loss'], color='teal', label='loss')\n",
    "plt.plot(hist2.history['val_loss'], color='orange', label='val_loss')\n",
    "fig.suptitle('Loss', fontsize=20)\n",
    "plt.xlabel('Epoch')\n",
    "plt.ylabel('Loss')\n",
    "plt.legend(loc=\"upper left\")\n",
    "plt.show()"
   ]
  },
  {
   "cell_type": "code",
   "execution_count": 16,
   "id": "2bc9cfb1",
   "metadata": {},
   "outputs": [
    {
     "data": {
      "image/png": "[encoded data removed]",
      "text/plain": [
       "<Figure size 432x288 with 1 Axes>"
      ]
     },
     "metadata": {
      "needs_background": "light"
     },
     "output_type": "display_data"
    }
   ],
   "source": [
    "fig = plt.figure()\n",
    "plt.plot(hist2.history['accuracy'], color='teal', label='accuracy')\n",
    "plt.plot(hist2.history['val_accuracy'], color='orange', label='val_accuracy')\n",
    "fig.suptitle('Accuracy', fontsize=20)\n",
    "plt.xlabel('Epoch')\n",
    "plt.ylabel('Loss')\n",
    "plt.legend(loc=\"upper left\")\n",
    "plt.show()"
   ]
  },
  {
   "cell_type": "code",
   "execution_count": 17,
   "id": "6453ec8a",
   "metadata": {},
   "outputs": [
    {
     "name": "stdout",
     "output_type": "stream",
     "text": [
      "7/7 [==============================] - 1s 148ms/step - loss: 0.3962 - accuracy: 0.8103\n"
     ]
    },
    {
     "data": {
      "text/plain": [
       "[0.39624860882759094, 0.8102564215660095]"
      ]
     },
     "execution_count": 17,
     "metadata": {},
     "output_type": "execute_result"
    }
   ],
   "source": [
    "#Printing the accuracy of the model\n",
    "model2.evaluate(X_image_test_stacked,y_test)"
   ]
  },
  {
   "cell_type": "code",
   "execution_count": 18,
   "id": "12ada2c6",
   "metadata": {},
   "outputs": [
    {
     "name": "stdout",
     "output_type": "stream",
     "text": [
      "7/7 [==============================] - 1s 153ms/step\n"
     ]
    }
   ],
   "source": [
    "#Predicting for the test dataset\n",
    "y_pred = model2.predict(X_image_test_stacked)\n",
    "y_pred_conv = []\n",
    "for i in y_pred:\n",
    "    if i[0] > i[1]:\n",
    "        y_pred_conv.append(0)\n",
    "    else:\n",
    "        y_pred_conv.append(1)"
   ]
  },
  {
   "cell_type": "code",
   "execution_count": 20,
   "id": "038c2c8f",
   "metadata": {},
   "outputs": [
    {
     "name": "stdout",
     "output_type": "stream",
     "text": [
      "ACCURACY SCORE:  0.8102564102564103\n",
      "F1 score:  0.7836257309941521\n",
      "\n",
      "CLASSIFICATION REPORT:\n",
      "              precision    recall  f1-score   support\n",
      "\n",
      "           0       0.73      0.96      0.83        95\n",
      "           1       0.94      0.67      0.78       100\n",
      "\n",
      "    accuracy                           0.81       195\n",
      "   macro avg       0.84      0.81      0.81       195\n",
      "weighted avg       0.84      0.81      0.81       195\n",
      "\n",
      "CONFUSION MATRIX:\n"
     ]
    },
    {
     "data": {
      "image/png": "[encoded data removed]",
      "text/plain": [
       "<Figure size 432x288 with 2 Axes>"
      ]
     },
     "metadata": {
      "needs_background": "light"
     },
     "output_type": "display_data"
    }
   ],
   "source": [
    "from sklearn.metrics import accuracy_score\n",
    "from sklearn.metrics import classification_report \n",
    "from sklearn.metrics import confusion_matrix\n",
    "from sklearn.metrics import ConfusionMatrixDisplay\n",
    "from sklearn.metrics import f1_score\n",
    "\n",
    "print(\"ACCURACY SCORE: \", accuracy_score(y_test,y_pred_conv))\n",
    "print('F1 score: ', f1_score(y_test,y_pred_conv))\n",
    "print()\n",
    "print(\"CLASSIFICATION REPORT:\")\n",
    "print(classification_report(y_test,y_pred_conv))\n",
    "a = confusion_matrix(y_test,y_pred_conv)\n",
    "result = ConfusionMatrixDisplay(a)\n",
    "print(\"CONFUSION MATRIX:\")\n",
    "result.plot()\n",
    "plt.show()"
   ]
  },
  {
   "cell_type": "markdown",
   "id": "de4b86bb",
   "metadata": {},
   "source": [
    "## Augmentation: 2 (Using hue,contrast,saturation, and greyscale)"
   ]
  },
  {
   "cell_type": "code",
   "execution_count": 34,
   "id": "e0681fd6",
   "metadata": {},
   "outputs": [],
   "source": [
    "import imgaug as ia\n",
    "from imgaug import augmenters as iaa\n",
    "import numpy as np\n",
    "import cv2\n",
    "\n",
    "#Using imgaug library to augment the images based on hue, saturation and contrast\n",
    "seq = iaa.Sequential([\n",
    "    iaa.Multiply((0.5, 1.5)), # multiply image intensity by 0.5 to 1.5\n",
    "    iaa.AddToHueAndSaturation((-10, 10)), # add/subtract -50 to 50 to hue and saturation\n",
    "    iaa.LinearContrast((0.5, 2.0)), # adjust contrast by a factor of 0.5 to 2.0\n",
    "    iaa.Grayscale(alpha=(0.0, 1.0)) # convert image to grayscale with alpha 0.0 to 1.0\n",
    "])\n"
   ]
  },
  {
   "cell_type": "code",
   "execution_count": 35,
   "id": "cd878c14",
   "metadata": {},
   "outputs": [
    {
     "name": "stderr",
     "output_type": "stream",
     "text": [
      "100%|████████████████████████████████████████████████████████████████████████████████| 167/167 [04:37<00:00,  1.66s/it]\n",
      "100%|████████████████████████████████████████████████████████████████████████████████| 167/167 [04:46<00:00,  1.72s/it]\n"
     ]
    }
   ],
   "source": [
    "#Initialisng the current directory and the directory to save the new augmented images\n",
    "data_dir = r'C:\\Users\\nithu\\Documents\\Project\\Gluacoma Detection\\New folder\\Fundus_Train_Val_Data\\Fundus_Combined\\Positive/'\n",
    "save_dir = r'C:\\Users\\nithu\\Documents\\Project\\Gluacoma Detection\\New folder\\Fundus_Train_Val_Data\\Fundus_Combined\\Augemnted_images_positive_pixels/'\n",
    "\n",
    "#Generating augmented images\n",
    "for i in range(2):\n",
    "    for filename in tqdm(os.listdir(data_dir)):\n",
    "        image = io.imread(os.path.join(data_dir, filename))\n",
    "        augmented_image = seq.augment_image(image)\n",
    "        io.imsave(os.path.join(save_dir, \"augmented_\"+str(i)+ filename), augmented_image)"
   ]
  },
  {
   "cell_type": "code",
   "execution_count": 36,
   "id": "3dae5afd",
   "metadata": {},
   "outputs": [
    {
     "name": "stderr",
     "output_type": "stream",
     "text": [
      "100%|████████████████████████████████████████████████████████████████████████████████| 166/166 [00:15<00:00, 10.67it/s]\n",
      "100%|████████████████████████████████████████████████████████████████████████████████| 481/481 [00:45<00:00, 10.68it/s]\n",
      "100%|████████████████████████████████████████████████████████████████████████████████| 333/333 [00:30<00:00, 10.94it/s]\n"
     ]
    }
   ],
   "source": [
    "#Reading all the images including the augmented images\n",
    "from tqdm import tqdm\n",
    "\n",
    "DATADIR = r'C:\\Users\\nithu\\Documents\\Project\\Gluacoma Detection\\New folder\\Fundus_Train_Val_Data\\Fundus_Combined'\n",
    "\n",
    "CATEGORIES = [\"Positive\", \"Negative\",\"Augemnted_images_positive_pixels\"]\n",
    "\n",
    "IMAGE_SIZE = (200,200)\n",
    "training_data = []\n",
    "Class = []\n",
    "def create_training_data():\n",
    "    for category in CATEGORIES:  \n",
    "\n",
    "        path = os.path.join(DATADIR,category)  \n",
    "        class_num = CATEGORIES.index(category)  \n",
    "\n",
    "        for img in tqdm(os.listdir(path)[1:]):  \n",
    "            img_array = io.imread(os.path.join(path,img))  \n",
    "            new_array = cv2.resize(img_array, (IMAGE_SIZE[0], IMAGE_SIZE[1]))  \n",
    "\n",
    "                \n",
    "            training_data.append(new_array)  \n",
    "            if category == 'Positive':\n",
    "                Class.append(1)\n",
    "            elif category == 'Augemnted_images_positive_pixels':\n",
    "                Class.append(1)\n",
    "            else:\n",
    "                Class.append(0)\n",
    "\n",
    "create_training_data()"
   ]
  },
  {
   "cell_type": "code",
   "execution_count": 37,
   "id": "ae411075",
   "metadata": {},
   "outputs": [],
   "source": [
    "df2 = pd.DataFrame({'Images': training_data,\n",
    "                  'Class': Class})"
   ]
  },
  {
   "cell_type": "code",
   "execution_count": 38,
   "id": "fd429588",
   "metadata": {},
   "outputs": [
    {
     "data": {
      "text/plain": [
       "1    499\n",
       "0    481\n",
       "Name: Class, dtype: int64"
      ]
     },
     "execution_count": 38,
     "metadata": {},
     "output_type": "execute_result"
    }
   ],
   "source": [
    "df2['Class'].value_counts()"
   ]
  },
  {
   "cell_type": "code",
   "execution_count": 39,
   "id": "694fbc86",
   "metadata": {},
   "outputs": [],
   "source": [
    "df2['Images'] = df2['Images']/255\n",
    "x = df2['Images']\n",
    "y = df2['Class']\n",
    "\n",
    "#Splitting the data\n",
    "from sklearn.model_selection import train_test_split\n",
    "\n",
    "x_temp, x_test, y_temp, y_test = train_test_split(x,y,test_size=0.2,train_size=0.8)\n",
    "x_train, x_validation, y_train, y_validation = train_test_split(x_temp,y_temp,test_size = 0.2,train_size =0.80)"
   ]
  },
  {
   "cell_type": "code",
   "execution_count": 40,
   "id": "7da8fc2b",
   "metadata": {},
   "outputs": [],
   "source": [
    "X_image_train_stacked = np.stack(x_train.values)\n",
    "X_image_validation_stacked = np.stack(x_validation.values)\n",
    "X_image_test_stacked = np.stack(x_test.values)"
   ]
  },
  {
   "cell_type": "code",
   "execution_count": 41,
   "id": "aa01f674",
   "metadata": {},
   "outputs": [
    {
     "name": "stdout",
     "output_type": "stream",
     "text": [
      "Epoch 1/10\n",
      "20/20 [==============================] - 20s 910ms/step - loss: 0.6694 - accuracy: 0.6730 - val_loss: 0.5005 - val_accuracy: 0.7580\n",
      "Epoch 2/10\n",
      "20/20 [==============================] - 17s 873ms/step - loss: 0.4817 - accuracy: 0.7496 - val_loss: 0.6355 - val_accuracy: 0.6688\n",
      "Epoch 3/10\n",
      "20/20 [==============================] - 18s 878ms/step - loss: 0.5011 - accuracy: 0.7289 - val_loss: 0.4823 - val_accuracy: 0.7580\n",
      "Epoch 4/10\n",
      "20/20 [==============================] - 17s 871ms/step - loss: 0.3844 - accuracy: 0.8293 - val_loss: 0.4220 - val_accuracy: 0.7962\n",
      "Epoch 5/10\n",
      "20/20 [==============================] - 18s 889ms/step - loss: 0.3824 - accuracy: 0.8357 - val_loss: 0.4235 - val_accuracy: 0.7898\n",
      "Epoch 6/10\n",
      "20/20 [==============================] - 17s 868ms/step - loss: 0.3562 - accuracy: 0.8453 - val_loss: 0.6323 - val_accuracy: 0.7261\n",
      "Epoch 7/10\n",
      "20/20 [==============================] - 18s 880ms/step - loss: 0.3828 - accuracy: 0.8262 - val_loss: 0.4437 - val_accuracy: 0.7898\n",
      "Epoch 8/10\n",
      "20/20 [==============================] - 17s 868ms/step - loss: 0.3775 - accuracy: 0.8230 - val_loss: 0.4511 - val_accuracy: 0.7962\n",
      "Epoch 9/10\n",
      "20/20 [==============================] - 17s 874ms/step - loss: 0.3955 - accuracy: 0.8102 - val_loss: 0.4437 - val_accuracy: 0.7771\n",
      "Epoch 10/10\n",
      "20/20 [==============================] - 17s 869ms/step - loss: 0.3302 - accuracy: 0.8517 - val_loss: 0.5471 - val_accuracy: 0.7516\n"
     ]
    }
   ],
   "source": [
    "#Training the CNN model\n",
    "model3 = Sequential([layers.Conv2D(filters=32, kernel_size=(3,3), activation='relu'),\n",
    "  layers.MaxPooling2D(),\n",
    "  layers.Conv2D(filters=64, kernel_size=(3,3), activation='relu'),\n",
    "  layers.MaxPooling2D(),\n",
    "  layers.Conv2D(filters=128, kernel_size=(3,3), activation='relu'),\n",
    "  layers.MaxPooling2D(),\n",
    "\n",
    "  layers.Flatten(),\n",
    "  layers.Dense(256, activation='relu'),                \n",
    "  layers.Dense(128, activation='relu'),\n",
    "  layers.Dense(64, activation='relu'),\n",
    "  layers.Dense(2, activation='sigmoid')\n",
    "])\n",
    "\n",
    "model3.compile(optimizer='adam', loss='sparse_categorical_crossentropy', metrics=['accuracy'])\n",
    "              \n",
    "hist3=model3.fit(X_image_train_stacked, y_train, epochs=10, validation_data=(X_image_validation_stacked,y_validation)) "
   ]
  },
  {
   "cell_type": "code",
   "execution_count": 42,
   "id": "8ee489cb",
   "metadata": {},
   "outputs": [
    {
     "data": {
      "image/png": "[encoded data removed]",
      "text/plain": [
       "<Figure size 432x288 with 1 Axes>"
      ]
     },
     "metadata": {
      "needs_background": "light"
     },
     "output_type": "display_data"
    }
   ],
   "source": [
    "fig = plt.figure()\n",
    "plt.plot(hist3.history['loss'], color='teal', label='loss')\n",
    "plt.plot(hist3.history['val_loss'], color='orange', label='val_loss')\n",
    "fig.suptitle('Loss', fontsize=20)\n",
    "plt.xlabel('Epoch')\n",
    "plt.ylabel('Loss')\n",
    "plt.legend(loc=\"upper left\")\n",
    "plt.show()"
   ]
  },
  {
   "cell_type": "code",
   "execution_count": 43,
   "id": "f8625199",
   "metadata": {},
   "outputs": [
    {
     "data": {
      "image/png": "[encoded data removed]",
      "text/plain": [
       "<Figure size 432x288 with 1 Axes>"
      ]
     },
     "metadata": {
      "needs_background": "light"
     },
     "output_type": "display_data"
    }
   ],
   "source": [
    "fig = plt.figure()\n",
    "plt.plot(hist3.history['accuracy'], color='teal', label='accuracy')\n",
    "plt.plot(hist3.history['val_accuracy'], color='orange', label='val_accuracy')\n",
    "fig.suptitle('Accuracy', fontsize=20)\n",
    "plt.xlabel('Epoch')\n",
    "plt.ylabel('Loss')\n",
    "plt.legend(loc=\"upper left\")\n",
    "plt.show()"
   ]
  },
  {
   "cell_type": "code",
   "execution_count": 44,
   "id": "d994472d",
   "metadata": {},
   "outputs": [
    {
     "name": "stdout",
     "output_type": "stream",
     "text": [
      "7/7 [==============================] - 1s 150ms/step - loss: 0.4293 - accuracy: 0.8214\n"
     ]
    },
    {
     "data": {
      "text/plain": [
       "[0.42931556701660156, 0.8214285969734192]"
      ]
     },
     "execution_count": 44,
     "metadata": {},
     "output_type": "execute_result"
    }
   ],
   "source": [
    "#Printing the accuracy of the model\n",
    "model3.evaluate(X_image_test_stacked,y_test)"
   ]
  },
  {
   "cell_type": "code",
   "execution_count": 45,
   "id": "f28e84f0",
   "metadata": {},
   "outputs": [
    {
     "name": "stdout",
     "output_type": "stream",
     "text": [
      "7/7 [==============================] - 1s 150ms/step\n"
     ]
    }
   ],
   "source": [
    "#Precicting for test dataset\n",
    "y_pred = model3.predict(X_image_test_stacked)\n",
    "y_pred_conv = []\n",
    "for i in y_pred:\n",
    "    if i[0] > i[1]:\n",
    "        y_pred_conv.append(0)\n",
    "    else:\n",
    "        y_pred_conv.append(1)"
   ]
  },
  {
   "cell_type": "code",
   "execution_count": 46,
   "id": "c14baac4",
   "metadata": {},
   "outputs": [
    {
     "name": "stdout",
     "output_type": "stream",
     "text": [
      "ACCURACY SCORE:  0.8214285714285714\n",
      "F1 score:  0.7976878612716762\n",
      "\n",
      "CLASSIFICATION REPORT:\n",
      "              precision    recall  f1-score   support\n",
      "\n",
      "           0       0.75      0.96      0.84        96\n",
      "           1       0.95      0.69      0.80       100\n",
      "\n",
      "    accuracy                           0.82       196\n",
      "   macro avg       0.85      0.82      0.82       196\n",
      "weighted avg       0.85      0.82      0.82       196\n",
      "\n",
      "CONFUSION MATRIX:\n"
     ]
    },
    {
     "data": {
      "image/png": "[encoded data removed]",
      "text/plain": [
       "<Figure size 432x288 with 2 Axes>"
      ]
     },
     "metadata": {
      "needs_background": "light"
     },
     "output_type": "display_data"
    }
   ],
   "source": [
    "#Plotting confusion matrix and classification report\n",
    "from sklearn.metrics import accuracy_score\n",
    "from sklearn.metrics import classification_report \n",
    "from sklearn.metrics import confusion_matrix\n",
    "from sklearn.metrics import ConfusionMatrixDisplay\n",
    "\n",
    "\n",
    "print(\"ACCURACY SCORE: \", accuracy_score(y_test,y_pred_conv))\n",
    "print('F1 score: ', f1_score(y_test,y_pred_conv))\n",
    "print()\n",
    "print(\"CLASSIFICATION REPORT:\")\n",
    "print(classification_report(y_test,y_pred_conv))\n",
    "a = confusion_matrix(y_test,y_pred_conv)\n",
    "result = ConfusionMatrixDisplay(a)\n",
    "print(\"CONFUSION MATRIX:\")\n",
    "result.plot()\n",
    "plt.show()"
   ]
  }
 ],
 "metadata": {
  "kernelspec": {
   "display_name": "Python 3 (ipykernel)",
   "language": "python",
   "name": "python3"
  },
  "language_info": {
   "codemirror_mode": {
    "name": "ipython",
    "version": 3
   },
   "file_extension": ".py",
   "mimetype": "text/x-python",
   "name": "python",
   "nbconvert_exporter": "python",
   "pygments_lexer": "ipython3",
   "version": "3.9.12"
  }
 },
 "nbformat": 4,
 "nbformat_minor": 5
}
