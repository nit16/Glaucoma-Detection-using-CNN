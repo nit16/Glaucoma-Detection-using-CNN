{
 "cells": [
  {
   "cell_type": "markdown",
   "id": "8bb8c46d",
   "metadata": {},
   "source": [
    "## Gluacoma detection on Imbalanced dataset after using GAN"
   ]
  },
  {
   "cell_type": "code",
   "execution_count": 1,
   "id": "acd4bdef",
   "metadata": {},
   "outputs": [],
   "source": [
    "#Importing all the libraries\n",
    "import warnings\n",
    "warnings.filterwarnings('ignore')\n",
    "import tqdm as tqdm\n",
    "from skimage import io\n",
    "\n",
    "import numpy as np\n",
    "import tensorflow as tf\n",
    "\n",
    "import matplotlib.pyplot as plt\n",
    "%matplotlib inline\n",
    "from IPython import display\n",
    "\n",
    "\n",
    "import numpy as np\n",
    "import pandas as pd \n",
    "import os\n",
    "from skimage.io import imread\n",
    "from skimage.transform import resize\n",
    "import matplotlib.pyplot as plt\n",
    "from tensorflow import keras\n",
    "import tensorflow as tf\n",
    "from tensorflow.keras import Sequential, layers, Model\n",
    "%matplotlib inline"
   ]
  },
  {
   "cell_type": "code",
   "execution_count": 2,
   "id": "246cfc13",
   "metadata": {},
   "outputs": [],
   "source": [
    "#Reading only the positive images\n",
    "image_directory = r'C:\\Users\\nithu\\Documents\\Project\\Gluacoma Detection\\New folder\\Fundus_Train_Val_Data\\Fundus_Combined\\Positive/'\n",
    "dataset = []\n",
    "IMAGE_SIZE = (200,200)\n",
    "from PIL import Image\n",
    "my_images = os.listdir(image_directory)\n",
    "for i, image_name in enumerate(my_images):\n",
    "    if (image_name.split('.')[1] == 'jpg'):\n",
    "        #Reading the image\n",
    "        image = imread(image_directory + image_name)\n",
    "        image = Image.fromarray(image, 'RGB')\n",
    "        #Resizing the image\n",
    "        image = image.resize((IMAGE_SIZE[0],IMAGE_SIZE[1]))\n",
    "        dataset.append(np.array(image))\n",
    "\n",
    "x = np.array(dataset)"
   ]
  },
  {
   "cell_type": "code",
   "execution_count": 3,
   "id": "746b29e4",
   "metadata": {},
   "outputs": [],
   "source": [
    "X_image_train_stacked = x  "
   ]
  },
  {
   "cell_type": "code",
   "execution_count": 4,
   "id": "900b4b29",
   "metadata": {},
   "outputs": [
    {
     "name": "stdout",
     "output_type": "stream",
     "text": [
      "discriminator\n",
      "Model: \"sequential\"\n",
      "_________________________________________________________________\n",
      " Layer (type)                Output Shape              Param #   \n",
      "=================================================================\n",
      " conv2d (Conv2D)             (None, 100, 100, 128)     3584      \n",
      "                                                                 \n",
      " leaky_re_lu (LeakyReLU)     (None, 100, 100, 128)     0         \n",
      "                                                                 \n",
      " conv2d_1 (Conv2D)           (None, 50, 50, 128)       147584    \n",
      "                                                                 \n",
      " leaky_re_lu_1 (LeakyReLU)   (None, 50, 50, 128)       0         \n",
      "                                                                 \n",
      " flatten (Flatten)           (None, 320000)            0         \n",
      "                                                                 \n",
      " dropout (Dropout)           (None, 320000)            0         \n",
      "                                                                 \n",
      " dense (Dense)               (None, 1)                 320001    \n",
      "                                                                 \n",
      "=================================================================\n",
      "Total params: 471,169\n",
      "Trainable params: 471,169\n",
      "Non-trainable params: 0\n",
      "_________________________________________________________________\n",
      "None\n",
      "Generator\n",
      "Model: \"sequential_1\"\n",
      "_________________________________________________________________\n",
      " Layer (type)                Output Shape              Param #   \n",
      "=================================================================\n",
      " dense_1 (Dense)             (None, 320000)            32320000  \n",
      "                                                                 \n",
      " leaky_re_lu_2 (LeakyReLU)   (None, 320000)            0         \n",
      "                                                                 \n",
      " reshape (Reshape)           (None, 50, 50, 128)       0         \n",
      "                                                                 \n",
      " conv2d_transpose (Conv2DTra  (None, 100, 100, 128)    262272    \n",
      " nspose)                                                         \n",
      "                                                                 \n",
      " leaky_re_lu_3 (LeakyReLU)   (None, 100, 100, 128)     0         \n",
      "                                                                 \n",
      " conv2d_transpose_1 (Conv2DT  (None, 200, 200, 128)    262272    \n",
      " ranspose)                                                       \n",
      "                                                                 \n",
      " leaky_re_lu_4 (LeakyReLU)   (None, 200, 200, 128)     0         \n",
      "                                                                 \n",
      " conv2d_2 (Conv2D)           (None, 200, 200, 3)       24579     \n",
      "                                                                 \n",
      "=================================================================\n",
      "Total params: 32,869,123\n",
      "Trainable params: 32,869,123\n",
      "Non-trainable params: 0\n",
      "_________________________________________________________________\n",
      "None\n",
      "1/1 [==============================] - 2s 2s/step\n"
     ]
    },
    {
     "ename": "KeyboardInterrupt",
     "evalue": "",
     "output_type": "error",
     "traceback": [
      "\u001b[1;31m---------------------------------------------------------------------------\u001b[0m",
      "\u001b[1;31mKeyboardInterrupt\u001b[0m                         Traceback (most recent call last)",
      "Input \u001b[1;32mIn [4]\u001b[0m, in \u001b[0;36m<cell line: 146>\u001b[1;34m()\u001b[0m\n\u001b[0;32m    144\u001b[0m dataset \u001b[38;5;241m=\u001b[39m load_real_samples()\n\u001b[0;32m    145\u001b[0m \u001b[38;5;66;03m# train model\u001b[39;00m\n\u001b[1;32m--> 146\u001b[0m \u001b[43mtrain\u001b[49m\u001b[43m(\u001b[49m\u001b[43mgenerator\u001b[49m\u001b[43m,\u001b[49m\u001b[43m \u001b[49m\u001b[43mdiscriminator\u001b[49m\u001b[43m,\u001b[49m\u001b[43m \u001b[49m\u001b[43mgan_model\u001b[49m\u001b[43m,\u001b[49m\u001b[43m \u001b[49m\u001b[43mdataset\u001b[49m\u001b[43m,\u001b[49m\u001b[43m \u001b[49m\u001b[43mlatent_dim\u001b[49m\u001b[43m,\u001b[49m\u001b[43m \u001b[49m\u001b[43mn_epochs\u001b[49m\u001b[38;5;241;43m=\u001b[39;49m\u001b[38;5;241;43m500\u001b[39;49m\u001b[43m)\u001b[49m\n\u001b[0;32m    148\u001b[0m \u001b[38;5;66;03m# load the generator model and generate images\u001b[39;00m\n\u001b[0;32m    149\u001b[0m \u001b[38;5;28;01mfrom\u001b[39;00m \u001b[38;5;21;01mkeras\u001b[39;00m\u001b[38;5;21;01m.\u001b[39;00m\u001b[38;5;21;01mmodels\u001b[39;00m \u001b[38;5;28;01mimport\u001b[39;00m load_model\n",
      "Input \u001b[1;32mIn [4]\u001b[0m, in \u001b[0;36mtrain\u001b[1;34m(g_model, d_model, gan_model, dataset, latent_dim, n_epochs, n_batch)\u001b[0m\n\u001b[0;32m    125\u001b[0m         X_gan \u001b[38;5;241m=\u001b[39m generate_latent_points(latent_dim, n_batch)\n\u001b[0;32m    126\u001b[0m         y_gan \u001b[38;5;241m=\u001b[39m ones((n_batch, \u001b[38;5;241m1\u001b[39m))\n\u001b[1;32m--> 127\u001b[0m         g_loss \u001b[38;5;241m=\u001b[39m \u001b[43mgan_model\u001b[49m\u001b[38;5;241;43m.\u001b[39;49m\u001b[43mtrain_on_batch\u001b[49m\u001b[43m(\u001b[49m\u001b[43mX_gan\u001b[49m\u001b[43m,\u001b[49m\u001b[43m \u001b[49m\u001b[43my_gan\u001b[49m\u001b[43m)\u001b[49m\n\u001b[0;32m    129\u001b[0m         \u001b[38;5;28mprint\u001b[39m(\u001b[38;5;124m'\u001b[39m\u001b[38;5;124mEpoch>\u001b[39m\u001b[38;5;132;01m%d\u001b[39;00m\u001b[38;5;124m, Batch \u001b[39m\u001b[38;5;132;01m%d\u001b[39;00m\u001b[38;5;124m/\u001b[39m\u001b[38;5;132;01m%d\u001b[39;00m\u001b[38;5;124m, d1=\u001b[39m\u001b[38;5;132;01m%.3f\u001b[39;00m\u001b[38;5;124m, d2=\u001b[39m\u001b[38;5;132;01m%.3f\u001b[39;00m\u001b[38;5;124m g=\u001b[39m\u001b[38;5;132;01m%.3f\u001b[39;00m\u001b[38;5;124m'\u001b[39m \u001b[38;5;241m%\u001b[39m\n\u001b[0;32m    130\u001b[0m             (i\u001b[38;5;241m+\u001b[39m\u001b[38;5;241m1\u001b[39m, j\u001b[38;5;241m+\u001b[39m\u001b[38;5;241m1\u001b[39m, bat_per_epo, d_loss_real, d_loss_fake, g_loss))\n\u001b[0;32m    131\u001b[0m g_model\u001b[38;5;241m.\u001b[39msave(\u001b[38;5;124m'\u001b[39m\u001b[38;5;124mcifar_generator_250epochs.h5\u001b[39m\u001b[38;5;124m'\u001b[39m)\n",
      "File \u001b[1;32m~\\anaconda3\\lib\\site-packages\\keras\\engine\\training.py:2478\u001b[0m, in \u001b[0;36mModel.train_on_batch\u001b[1;34m(self, x, y, sample_weight, class_weight, reset_metrics, return_dict)\u001b[0m\n\u001b[0;32m   2474\u001b[0m     iterator \u001b[38;5;241m=\u001b[39m data_adapter\u001b[38;5;241m.\u001b[39msingle_batch_iterator(\n\u001b[0;32m   2475\u001b[0m         \u001b[38;5;28mself\u001b[39m\u001b[38;5;241m.\u001b[39mdistribute_strategy, x, y, sample_weight, class_weight\n\u001b[0;32m   2476\u001b[0m     )\n\u001b[0;32m   2477\u001b[0m     \u001b[38;5;28mself\u001b[39m\u001b[38;5;241m.\u001b[39mtrain_function \u001b[38;5;241m=\u001b[39m \u001b[38;5;28mself\u001b[39m\u001b[38;5;241m.\u001b[39mmake_train_function()\n\u001b[1;32m-> 2478\u001b[0m     logs \u001b[38;5;241m=\u001b[39m \u001b[38;5;28;43mself\u001b[39;49m\u001b[38;5;241;43m.\u001b[39;49m\u001b[43mtrain_function\u001b[49m\u001b[43m(\u001b[49m\u001b[43miterator\u001b[49m\u001b[43m)\u001b[49m\n\u001b[0;32m   2480\u001b[0m logs \u001b[38;5;241m=\u001b[39m tf_utils\u001b[38;5;241m.\u001b[39msync_to_numpy_or_python_type(logs)\n\u001b[0;32m   2481\u001b[0m \u001b[38;5;28;01mif\u001b[39;00m return_dict:\n",
      "File \u001b[1;32m~\\anaconda3\\lib\\site-packages\\tensorflow\\python\\util\\traceback_utils.py:150\u001b[0m, in \u001b[0;36mfilter_traceback.<locals>.error_handler\u001b[1;34m(*args, **kwargs)\u001b[0m\n\u001b[0;32m    148\u001b[0m filtered_tb \u001b[38;5;241m=\u001b[39m \u001b[38;5;28;01mNone\u001b[39;00m\n\u001b[0;32m    149\u001b[0m \u001b[38;5;28;01mtry\u001b[39;00m:\n\u001b[1;32m--> 150\u001b[0m   \u001b[38;5;28;01mreturn\u001b[39;00m fn(\u001b[38;5;241m*\u001b[39margs, \u001b[38;5;241m*\u001b[39m\u001b[38;5;241m*\u001b[39mkwargs)\n\u001b[0;32m    151\u001b[0m \u001b[38;5;28;01mexcept\u001b[39;00m \u001b[38;5;167;01mException\u001b[39;00m \u001b[38;5;28;01mas\u001b[39;00m e:\n\u001b[0;32m    152\u001b[0m   filtered_tb \u001b[38;5;241m=\u001b[39m _process_traceback_frames(e\u001b[38;5;241m.\u001b[39m__traceback__)\n",
      "File \u001b[1;32m~\\anaconda3\\lib\\site-packages\\tensorflow\\python\\eager\\polymorphic_function\\polymorphic_function.py:880\u001b[0m, in \u001b[0;36mFunction.__call__\u001b[1;34m(self, *args, **kwds)\u001b[0m\n\u001b[0;32m    877\u001b[0m compiler \u001b[38;5;241m=\u001b[39m \u001b[38;5;124m\"\u001b[39m\u001b[38;5;124mxla\u001b[39m\u001b[38;5;124m\"\u001b[39m \u001b[38;5;28;01mif\u001b[39;00m \u001b[38;5;28mself\u001b[39m\u001b[38;5;241m.\u001b[39m_jit_compile \u001b[38;5;28;01melse\u001b[39;00m \u001b[38;5;124m\"\u001b[39m\u001b[38;5;124mnonXla\u001b[39m\u001b[38;5;124m\"\u001b[39m\n\u001b[0;32m    879\u001b[0m \u001b[38;5;28;01mwith\u001b[39;00m OptionalXlaContext(\u001b[38;5;28mself\u001b[39m\u001b[38;5;241m.\u001b[39m_jit_compile):\n\u001b[1;32m--> 880\u001b[0m   result \u001b[38;5;241m=\u001b[39m \u001b[38;5;28mself\u001b[39m\u001b[38;5;241m.\u001b[39m_call(\u001b[38;5;241m*\u001b[39margs, \u001b[38;5;241m*\u001b[39m\u001b[38;5;241m*\u001b[39mkwds)\n\u001b[0;32m    882\u001b[0m new_tracing_count \u001b[38;5;241m=\u001b[39m \u001b[38;5;28mself\u001b[39m\u001b[38;5;241m.\u001b[39mexperimental_get_tracing_count()\n\u001b[0;32m    883\u001b[0m without_tracing \u001b[38;5;241m=\u001b[39m (tracing_count \u001b[38;5;241m==\u001b[39m new_tracing_count)\n",
      "File \u001b[1;32m~\\anaconda3\\lib\\site-packages\\tensorflow\\python\\eager\\polymorphic_function\\polymorphic_function.py:945\u001b[0m, in \u001b[0;36mFunction._call\u001b[1;34m(self, *args, **kwds)\u001b[0m\n\u001b[0;32m    941\u001b[0m     \u001b[38;5;28;01mpass\u001b[39;00m  \u001b[38;5;66;03m# Fall through to cond-based initialization.\u001b[39;00m\n\u001b[0;32m    942\u001b[0m   \u001b[38;5;28;01melse\u001b[39;00m:\n\u001b[0;32m    943\u001b[0m     \u001b[38;5;66;03m# Lifting succeeded, so variables are initialized and we can run the\u001b[39;00m\n\u001b[0;32m    944\u001b[0m     \u001b[38;5;66;03m# no_variable_creation function.\u001b[39;00m\n\u001b[1;32m--> 945\u001b[0m     \u001b[38;5;28;01mreturn\u001b[39;00m \u001b[38;5;28mself\u001b[39m\u001b[38;5;241m.\u001b[39m_no_variable_creation_fn(\u001b[38;5;241m*\u001b[39margs, \u001b[38;5;241m*\u001b[39m\u001b[38;5;241m*\u001b[39mkwds)\n\u001b[0;32m    946\u001b[0m \u001b[38;5;28;01melse\u001b[39;00m:\n\u001b[0;32m    947\u001b[0m   _, _, filtered_flat_args \u001b[38;5;241m=\u001b[39m (\n\u001b[0;32m    948\u001b[0m       \u001b[38;5;28mself\u001b[39m\u001b[38;5;241m.\u001b[39m_variable_creation_fn\u001b[38;5;241m.\u001b[39m_function_spec  \u001b[38;5;66;03m# pylint: disable=protected-access\u001b[39;00m\n\u001b[0;32m    949\u001b[0m       \u001b[38;5;241m.\u001b[39mcanonicalize_function_inputs(\n\u001b[0;32m    950\u001b[0m           args, kwds))\n",
      "File \u001b[1;32m~\\anaconda3\\lib\\site-packages\\tensorflow\\python\\eager\\polymorphic_function\\tracing_compiler.py:134\u001b[0m, in \u001b[0;36mTracingCompiler.__call__\u001b[1;34m(self, *args, **kwargs)\u001b[0m\n\u001b[0;32m    131\u001b[0m \u001b[38;5;28;01mwith\u001b[39;00m \u001b[38;5;28mself\u001b[39m\u001b[38;5;241m.\u001b[39m_lock:\n\u001b[0;32m    132\u001b[0m   (concrete_function,\n\u001b[0;32m    133\u001b[0m    filtered_flat_args) \u001b[38;5;241m=\u001b[39m \u001b[38;5;28mself\u001b[39m\u001b[38;5;241m.\u001b[39m_maybe_define_function(args, kwargs)\n\u001b[1;32m--> 134\u001b[0m \u001b[38;5;28;01mreturn\u001b[39;00m \u001b[43mconcrete_function\u001b[49m\u001b[38;5;241;43m.\u001b[39;49m\u001b[43m_call_flat\u001b[49m\u001b[43m(\u001b[49m\n\u001b[0;32m    135\u001b[0m \u001b[43m    \u001b[49m\u001b[43mfiltered_flat_args\u001b[49m\u001b[43m,\u001b[49m\u001b[43m \u001b[49m\u001b[43mcaptured_inputs\u001b[49m\u001b[38;5;241;43m=\u001b[39;49m\u001b[43mconcrete_function\u001b[49m\u001b[38;5;241;43m.\u001b[39;49m\u001b[43mcaptured_inputs\u001b[49m\u001b[43m)\u001b[49m\n",
      "File \u001b[1;32m~\\anaconda3\\lib\\site-packages\\tensorflow\\python\\eager\\polymorphic_function\\monomorphic_function.py:1745\u001b[0m, in \u001b[0;36mConcreteFunction._call_flat\u001b[1;34m(self, args, captured_inputs, cancellation_manager)\u001b[0m\n\u001b[0;32m   1741\u001b[0m possible_gradient_type \u001b[38;5;241m=\u001b[39m gradients_util\u001b[38;5;241m.\u001b[39mPossibleTapeGradientTypes(args)\n\u001b[0;32m   1742\u001b[0m \u001b[38;5;28;01mif\u001b[39;00m (possible_gradient_type \u001b[38;5;241m==\u001b[39m gradients_util\u001b[38;5;241m.\u001b[39mPOSSIBLE_GRADIENT_TYPES_NONE\n\u001b[0;32m   1743\u001b[0m     \u001b[38;5;129;01mand\u001b[39;00m executing_eagerly):\n\u001b[0;32m   1744\u001b[0m   \u001b[38;5;66;03m# No tape is watching; skip to running the function.\u001b[39;00m\n\u001b[1;32m-> 1745\u001b[0m   \u001b[38;5;28;01mreturn\u001b[39;00m \u001b[38;5;28mself\u001b[39m\u001b[38;5;241m.\u001b[39m_build_call_outputs(\u001b[38;5;28;43mself\u001b[39;49m\u001b[38;5;241;43m.\u001b[39;49m\u001b[43m_inference_function\u001b[49m\u001b[38;5;241;43m.\u001b[39;49m\u001b[43mcall\u001b[49m\u001b[43m(\u001b[49m\n\u001b[0;32m   1746\u001b[0m \u001b[43m      \u001b[49m\u001b[43mctx\u001b[49m\u001b[43m,\u001b[49m\u001b[43m \u001b[49m\u001b[43margs\u001b[49m\u001b[43m,\u001b[49m\u001b[43m \u001b[49m\u001b[43mcancellation_manager\u001b[49m\u001b[38;5;241;43m=\u001b[39;49m\u001b[43mcancellation_manager\u001b[49m\u001b[43m)\u001b[49m)\n\u001b[0;32m   1747\u001b[0m forward_backward \u001b[38;5;241m=\u001b[39m \u001b[38;5;28mself\u001b[39m\u001b[38;5;241m.\u001b[39m_select_forward_and_backward_functions(\n\u001b[0;32m   1748\u001b[0m     args,\n\u001b[0;32m   1749\u001b[0m     possible_gradient_type,\n\u001b[0;32m   1750\u001b[0m     executing_eagerly)\n\u001b[0;32m   1751\u001b[0m forward_function, args_with_tangents \u001b[38;5;241m=\u001b[39m forward_backward\u001b[38;5;241m.\u001b[39mforward()\n",
      "File \u001b[1;32m~\\anaconda3\\lib\\site-packages\\tensorflow\\python\\eager\\polymorphic_function\\monomorphic_function.py:378\u001b[0m, in \u001b[0;36m_EagerDefinedFunction.call\u001b[1;34m(self, ctx, args, cancellation_manager)\u001b[0m\n\u001b[0;32m    376\u001b[0m \u001b[38;5;28;01mwith\u001b[39;00m _InterpolateFunctionError(\u001b[38;5;28mself\u001b[39m):\n\u001b[0;32m    377\u001b[0m   \u001b[38;5;28;01mif\u001b[39;00m cancellation_manager \u001b[38;5;129;01mis\u001b[39;00m \u001b[38;5;28;01mNone\u001b[39;00m:\n\u001b[1;32m--> 378\u001b[0m     outputs \u001b[38;5;241m=\u001b[39m \u001b[43mexecute\u001b[49m\u001b[38;5;241;43m.\u001b[39;49m\u001b[43mexecute\u001b[49m\u001b[43m(\u001b[49m\n\u001b[0;32m    379\u001b[0m \u001b[43m        \u001b[49m\u001b[38;5;28;43mstr\u001b[39;49m\u001b[43m(\u001b[49m\u001b[38;5;28;43mself\u001b[39;49m\u001b[38;5;241;43m.\u001b[39;49m\u001b[43msignature\u001b[49m\u001b[38;5;241;43m.\u001b[39;49m\u001b[43mname\u001b[49m\u001b[43m)\u001b[49m\u001b[43m,\u001b[49m\n\u001b[0;32m    380\u001b[0m \u001b[43m        \u001b[49m\u001b[43mnum_outputs\u001b[49m\u001b[38;5;241;43m=\u001b[39;49m\u001b[38;5;28;43mself\u001b[39;49m\u001b[38;5;241;43m.\u001b[39;49m\u001b[43m_num_outputs\u001b[49m\u001b[43m,\u001b[49m\n\u001b[0;32m    381\u001b[0m \u001b[43m        \u001b[49m\u001b[43minputs\u001b[49m\u001b[38;5;241;43m=\u001b[39;49m\u001b[43margs\u001b[49m\u001b[43m,\u001b[49m\n\u001b[0;32m    382\u001b[0m \u001b[43m        \u001b[49m\u001b[43mattrs\u001b[49m\u001b[38;5;241;43m=\u001b[39;49m\u001b[43mattrs\u001b[49m\u001b[43m,\u001b[49m\n\u001b[0;32m    383\u001b[0m \u001b[43m        \u001b[49m\u001b[43mctx\u001b[49m\u001b[38;5;241;43m=\u001b[39;49m\u001b[43mctx\u001b[49m\u001b[43m)\u001b[49m\n\u001b[0;32m    384\u001b[0m   \u001b[38;5;28;01melse\u001b[39;00m:\n\u001b[0;32m    385\u001b[0m     outputs \u001b[38;5;241m=\u001b[39m execute\u001b[38;5;241m.\u001b[39mexecute_with_cancellation(\n\u001b[0;32m    386\u001b[0m         \u001b[38;5;28mstr\u001b[39m(\u001b[38;5;28mself\u001b[39m\u001b[38;5;241m.\u001b[39msignature\u001b[38;5;241m.\u001b[39mname),\n\u001b[0;32m    387\u001b[0m         num_outputs\u001b[38;5;241m=\u001b[39m\u001b[38;5;28mself\u001b[39m\u001b[38;5;241m.\u001b[39m_num_outputs,\n\u001b[1;32m   (...)\u001b[0m\n\u001b[0;32m    390\u001b[0m         ctx\u001b[38;5;241m=\u001b[39mctx,\n\u001b[0;32m    391\u001b[0m         cancellation_manager\u001b[38;5;241m=\u001b[39mcancellation_manager)\n",
      "File \u001b[1;32m~\\anaconda3\\lib\\site-packages\\tensorflow\\python\\eager\\execute.py:52\u001b[0m, in \u001b[0;36mquick_execute\u001b[1;34m(op_name, num_outputs, inputs, attrs, ctx, name)\u001b[0m\n\u001b[0;32m     50\u001b[0m \u001b[38;5;28;01mtry\u001b[39;00m:\n\u001b[0;32m     51\u001b[0m   ctx\u001b[38;5;241m.\u001b[39mensure_initialized()\n\u001b[1;32m---> 52\u001b[0m   tensors \u001b[38;5;241m=\u001b[39m \u001b[43mpywrap_tfe\u001b[49m\u001b[38;5;241;43m.\u001b[39;49m\u001b[43mTFE_Py_Execute\u001b[49m\u001b[43m(\u001b[49m\u001b[43mctx\u001b[49m\u001b[38;5;241;43m.\u001b[39;49m\u001b[43m_handle\u001b[49m\u001b[43m,\u001b[49m\u001b[43m \u001b[49m\u001b[43mdevice_name\u001b[49m\u001b[43m,\u001b[49m\u001b[43m \u001b[49m\u001b[43mop_name\u001b[49m\u001b[43m,\u001b[49m\n\u001b[0;32m     53\u001b[0m \u001b[43m                                      \u001b[49m\u001b[43minputs\u001b[49m\u001b[43m,\u001b[49m\u001b[43m \u001b[49m\u001b[43mattrs\u001b[49m\u001b[43m,\u001b[49m\u001b[43m \u001b[49m\u001b[43mnum_outputs\u001b[49m\u001b[43m)\u001b[49m\n\u001b[0;32m     54\u001b[0m \u001b[38;5;28;01mexcept\u001b[39;00m core\u001b[38;5;241m.\u001b[39m_NotOkStatusException \u001b[38;5;28;01mas\u001b[39;00m e:\n\u001b[0;32m     55\u001b[0m   \u001b[38;5;28;01mif\u001b[39;00m name \u001b[38;5;129;01mis\u001b[39;00m \u001b[38;5;129;01mnot\u001b[39;00m \u001b[38;5;28;01mNone\u001b[39;00m:\n",
      "\u001b[1;31mKeyboardInterrupt\u001b[0m: "
     ]
    }
   ],
   "source": [
    "#Building the GAN model\n",
    "\n",
    "from numpy import zeros\n",
    "from numpy import ones\n",
    "from numpy.random import randn\n",
    "from numpy.random import randint\n",
    "from tensorflow.keras.optimizers import Adam\n",
    "from keras.models import Sequential\n",
    "from keras.layers import Dense\n",
    "from keras.layers import Reshape\n",
    "from keras.layers import Flatten\n",
    "from keras.layers import Conv2D\n",
    "from keras.layers import Conv2DTranspose\n",
    "from keras.layers import LeakyReLU\n",
    "from keras.layers import Dropout\n",
    "\n",
    "from matplotlib import pyplot as plt\n",
    "\n",
    "\n",
    "trainX = X_image_train_stacked\n",
    "#trainy = y_train\n",
    "#testX = X_image_test_stacked\n",
    "#testy = y_test\n",
    "\n",
    "\n",
    "#Discriminator model\n",
    "def define_discriminator(in_shape=(200,200,3)):\n",
    "    model = Sequential()\n",
    "    \n",
    "    model.add(Conv2D(128, (3,3), strides=(2,2), padding='same', input_shape=in_shape)) \n",
    "    model.add(LeakyReLU(alpha=0.2))\n",
    "    \n",
    "    model.add(Conv2D(128, (3,3), strides=(2,2), padding='same')) \n",
    "    model.add(LeakyReLU(alpha=0.2))\n",
    "\n",
    "    model.add(Flatten()) \n",
    "    model.add(Dropout(0.4))\n",
    "    model.add(Dense(1, activation='sigmoid')) \n",
    "    # compile model\n",
    "    opt = Adam(learning_rate=0.0002, beta_1=0.5)\n",
    "    model.compile(loss='binary_crossentropy', optimizer=opt, metrics=['accuracy'])\n",
    "    return model\n",
    "\n",
    "test_discr = define_discriminator()\n",
    "print(\"discriminator\")\n",
    "print(test_discr.summary())\n",
    "\n",
    "\n",
    "#Generator model\n",
    "def define_generator(latent_dim):    \n",
    "    model = Sequential()\n",
    "    n_nodes = 128 * 50 * 50  \n",
    "    model.add(Dense(n_nodes, input_dim=latent_dim)) \n",
    "    model.add(LeakyReLU(alpha=0.2))\n",
    "    model.add(Reshape((50, 50, 128)))  \n",
    "    # upsample to 16x16\n",
    "    model.add(Conv2DTranspose(128, (4,4), strides=(2,2), padding='same'))\n",
    "    model.add(LeakyReLU(alpha=0.2))\n",
    "    # upsample to 32x32\n",
    "    model.add(Conv2DTranspose(128, (4,4), strides=(2,2), padding='same')) \n",
    "    model.add(LeakyReLU(alpha=0.2))\n",
    "    # generate\n",
    "    model.add(Conv2D(3, (8,8), activation='tanh', padding='same')) \n",
    "    return model  \n",
    "\n",
    "test_gen = define_generator(100)\n",
    "print(\"Generator\")\n",
    "print(test_gen.summary())\n",
    "\n",
    "\n",
    "# defining the combined generator and discriminator model, for updating the generator\n",
    "def define_gan(generator, discriminator):\n",
    "    discriminator.trainable = False      #Discriminator is trained separately. So set to not trainable.\n",
    "    model = Sequential()\n",
    "    model.add(generator)\n",
    "    model.add(discriminator)\n",
    "    # compile model\n",
    "    opt = Adam(learning_rate=0.0002, beta_1=0.5)\n",
    "    model.compile(loss='binary_crossentropy', optimizer=opt)\n",
    "    return model\n",
    "\n",
    "\n",
    "# \n",
    "def load_real_samples():\n",
    "    trainX = X_image_train_stacked\n",
    "    # Convert to float and scale.\n",
    "    X = trainX.astype('float32')\n",
    "    # scale from [0,255] to [-1,1]\n",
    "    X = (X - 127.5) / 127.5         #Generator uses tanh activation so rescale\n",
    "    return X\n",
    "\n",
    "\n",
    "#For each real image we assign a label 1 and for fake we assign label 0\n",
    "def generate_real_samples(dataset, n_samples):\n",
    "    ix = randint(0, dataset.shape[0], n_samples)\n",
    "    X = dataset[ix]\n",
    "    y = ones((n_samples, 1)) \n",
    "    return X, y\n",
    "\n",
    "# generate n_samples number of latent vectors (random noise) as input for the generator\n",
    "def generate_latent_points(latent_dim, n_samples):\n",
    "    x_input = randn(latent_dim * n_samples)\n",
    "    x_input = x_input.reshape(n_samples, latent_dim)\n",
    "    return x_input\n",
    "\n",
    "#Use the above latent point generator to generate latent points.\n",
    "def generate_fake_samples(generator, latent_dim, n_samples):\n",
    "    x_input = generate_latent_points(latent_dim, n_samples)\n",
    "    X = generator.predict(x_input)\n",
    "    # Class labels will be 0 as these samples are fake.\n",
    "    y = zeros((n_samples, 1))  \n",
    "    return X, y\n",
    "\n",
    "# training the generator and discriminator\n",
    "def train(g_model, d_model, gan_model, dataset, latent_dim, n_epochs=100, n_batch=32):\n",
    "    bat_per_epo = int(dataset.shape[0] / n_batch)\n",
    "    half_batch = int(n_batch / 2)  \n",
    "    \n",
    "    for i in range(n_epochs):\n",
    "        for j in range(bat_per_epo):\n",
    "    \n",
    "            X_real, y_real = generate_real_samples(dataset, half_batch)\n",
    "            d_loss_real, _ = d_model.train_on_batch(X_real, y_real) \n",
    "        \n",
    "            X_fake, y_fake = generate_fake_samples(g_model, latent_dim, half_batch)\n",
    "            d_loss_fake, _ = d_model.train_on_batch(X_fake, y_fake)  \n",
    "            X_gan = generate_latent_points(latent_dim, n_batch)\n",
    "            y_gan = ones((n_batch, 1))\n",
    "            g_loss = gan_model.train_on_batch(X_gan, y_gan)\n",
    "\n",
    "            print('Epoch>%d, Batch %d/%d, d1=%.3f, d2=%.3f g=%.3f' %\n",
    "                (i+1, j+1, bat_per_epo, d_loss_real, d_loss_fake, g_loss))\n",
    "    g_model.save('cifar_generator_250epochs.h5')\n",
    "\n",
    "###################################################################\n",
    "\n",
    "#Size of random array (latent_dim)\n",
    "latent_dim = 100\n",
    "# create the discriminator\n",
    "discriminator = define_discriminator()\n",
    "# create the generator\n",
    "generator = define_generator(latent_dim)\n",
    "# create the gan\n",
    "gan_model = define_gan(generator, discriminator)\n",
    "# load image data\n",
    "dataset = load_real_samples()\n",
    "# train model\n",
    "train(generator, discriminator, gan_model, dataset, latent_dim, n_epochs=500)\n",
    "\n",
    "# load the generator model and generate images\n",
    "from keras.models import load_model\n",
    "from numpy.random import randn\n",
    "\n",
    "\n",
    "# load model\n",
    "model = load_model('cifar_generator_250epochs.h5') \n",
    "# generate images\n",
    "latent_points = generate_latent_points(100, 25)  \n",
    "# generate images\n",
    "X = model.predict(latent_points)"
   ]
  },
  {
   "cell_type": "markdown",
   "id": "1a55d3e9",
   "metadata": {},
   "source": [
    "### Saving the generated images in pickle file in array format "
   ]
  },
  {
   "cell_type": "code",
   "execution_count": 5,
   "id": "0f3f925f",
   "metadata": {},
   "outputs": [
    {
     "name": "stdout",
     "output_type": "stream",
     "text": [
      "\n"
     ]
    }
   ],
   "source": [
    "import pickle\n",
    "\n",
    "file=open(\"test.pickle\",\"wb\")\n",
    "pickle.dump(x,file)\n",
    "file.close()"
   ]
  },
  {
   "cell_type": "markdown",
   "id": "e8a6a529",
   "metadata": {},
   "source": [
    "### Opening Pickle file"
   ]
  },
  {
   "cell_type": "code",
   "execution_count": 2,
   "id": "72b09650",
   "metadata": {},
   "outputs": [],
   "source": [
    "#Loading the data from the pickle file\n",
    "X_positive_generated=pickle.load(open(\"test.pickle\",\"rb\"))"
   ]
  },
  {
   "cell_type": "code",
   "execution_count": 3,
   "id": "cf8d52d4",
   "metadata": {},
   "outputs": [
    {
     "data": {
      "text/plain": [
       "(150, 200, 200, 3)"
      ]
     },
     "execution_count": 3,
     "metadata": {},
     "output_type": "execute_result"
    }
   ],
   "source": [
    "X_positive_generated.shape"
   ]
  },
  {
   "cell_type": "code",
   "execution_count": 4,
   "id": "02652ab5",
   "metadata": {},
   "outputs": [],
   "source": [
    "# scale from [-1,1] to [0,1]\n",
    "X_positive_generated = (X_positive_generated + 1) / 2.0\n",
    "\n",
    "import numpy as np\n",
    "#Converting to a scale of [0,255]\n",
    "X_positive_generated = (X_positive_generated*255).astype(np.uint8)"
   ]
  },
  {
   "cell_type": "code",
   "execution_count": 5,
   "id": "67402674",
   "metadata": {},
   "outputs": [
    {
     "data": {
      "text/plain": [
       "<matplotlib.image.AxesImage at 0x2d80ecb6760>"
      ]
     },
     "execution_count": 5,
     "metadata": {},
     "output_type": "execute_result"
    },
    {
     "data": {
      "image/png": "[encoded data removed]",
      "text/plain": [
       "<Figure size 432x288 with 1 Axes>"
      ]
     },
     "metadata": {
      "needs_background": "light"
     },
     "output_type": "display_data"
    }
   ],
   "source": [
    "#plotting the generated image\n",
    "import matplotlib.pyplot as plt\n",
    "plt.imshow(X_positive_generated[4])"
   ]
  },
  {
   "cell_type": "code",
   "execution_count": 6,
   "id": "2d20ec91",
   "metadata": {},
   "outputs": [
    {
     "name": "stderr",
     "output_type": "stream",
     "text": [
      "100%|████████████████████████████████████████████████████████████████████████████████| 166/166 [00:11<00:00, 14.40it/s]\n",
      "100%|████████████████████████████████████████████████████████████████████████████████| 481/481 [00:34<00:00, 14.03it/s]\n"
     ]
    }
   ],
   "source": [
    "#Reading and resizing the images\n",
    "import os\n",
    "from tqdm import tqdm\n",
    "import cv2\n",
    "DATADIR = r'C:\\Users\\nithu\\Documents\\Project\\Gluacoma Detection\\New folder\\Fundus_Train_Val_Data\\Fundus_Combined'\n",
    "\n",
    "CATEGORIES = [\"Positive\", \"Negative\"]\n",
    "\n",
    "IMAGE_SIZE = (200,200)\n",
    "training_data = []\n",
    "Class = []\n",
    "def create_training_data():\n",
    "    for category in CATEGORIES:  \n",
    "\n",
    "        path = os.path.join(DATADIR,category)  \n",
    "        class_num = CATEGORIES.index(category)  \n",
    "\n",
    "        for img in tqdm(os.listdir(path)[1:]):  \n",
    "            img_array = cv2.imread(os.path.join(path,img))  \n",
    "            new_array = cv2.resize(img_array, (IMAGE_SIZE[0], IMAGE_SIZE[1]))  \n",
    "\n",
    "                \n",
    "            training_data.append(new_array)  \n",
    "            if category == 'Positive':\n",
    "                Class.append(1)\n",
    "            else:\n",
    "                Class.append(0)\n",
    "\n",
    "create_training_data()"
   ]
  },
  {
   "cell_type": "code",
   "execution_count": 7,
   "id": "ea469a00",
   "metadata": {},
   "outputs": [],
   "source": [
    "#Converting the list of images to array\n",
    "training_data = np.array(training_data)\n",
    "#Storing the classes of the generated images as 1 since all images generated through gan are positive\n",
    "for i in range(len(X_positive_generated)):\n",
    "    Class.append(1)"
   ]
  },
  {
   "cell_type": "code",
   "execution_count": 8,
   "id": "25af7c7c",
   "metadata": {},
   "outputs": [
    {
     "data": {
      "text/plain": [
       "((647, 200, 200, 3), (150, 200, 200, 3))"
      ]
     },
     "execution_count": 8,
     "metadata": {},
     "output_type": "execute_result"
    }
   ],
   "source": [
    "training_data.shape,X_positive_generated.shape"
   ]
  },
  {
   "cell_type": "code",
   "execution_count": 9,
   "id": "7cd00187",
   "metadata": {},
   "outputs": [
    {
     "data": {
      "text/plain": [
       "(797, 200, 200, 3)"
      ]
     },
     "execution_count": 9,
     "metadata": {},
     "output_type": "execute_result"
    }
   ],
   "source": [
    "#Stacking both the org images and generated images\n",
    "new_train_data=np.vstack((training_data,X_positive_generated))\n",
    "\n",
    "#Normalising the images\n",
    "new_train_data=new_train_data/255\n",
    "new_train_data.shape"
   ]
  },
  {
   "cell_type": "code",
   "execution_count": 10,
   "id": "c0561abd",
   "metadata": {},
   "outputs": [],
   "source": [
    "#converting the data into a dataframe\n",
    "df = pd.DataFrame({'Images': new_train_data.tolist(),\n",
    "                  'Class': Class})"
   ]
  },
  {
   "cell_type": "code",
   "execution_count": 11,
   "id": "b752c519",
   "metadata": {},
   "outputs": [
    {
     "data": {
      "text/plain": [
       "0    481\n",
       "1    316\n",
       "Name: Class, dtype: int64"
      ]
     },
     "execution_count": 11,
     "metadata": {},
     "output_type": "execute_result"
    }
   ],
   "source": [
    "df['Class'].value_counts()"
   ]
  },
  {
   "cell_type": "code",
   "execution_count": 12,
   "id": "514886f0",
   "metadata": {},
   "outputs": [],
   "source": [
    "x = df['Images']\n",
    "y = df['Class']\n",
    "\n",
    "#Splitting the data\n",
    "from sklearn.model_selection import train_test_split\n",
    "\n",
    "x_temp, x_test, y_temp, y_test = train_test_split(x,y,test_size=0.2,train_size=0.8)\n",
    "x_train, x_validation, y_train, y_validation = train_test_split(x_temp,y_temp,test_size = 0.2,train_size =0.80)"
   ]
  },
  {
   "cell_type": "code",
   "execution_count": 13,
   "id": "5bce3d20",
   "metadata": {},
   "outputs": [
    {
     "data": {
      "text/plain": [
       "0    319\n",
       "1    190\n",
       "Name: Class, dtype: int64"
      ]
     },
     "execution_count": 13,
     "metadata": {},
     "output_type": "execute_result"
    }
   ],
   "source": [
    "y_train.value_counts()"
   ]
  },
  {
   "cell_type": "code",
   "execution_count": 14,
   "id": "5d0f97ec",
   "metadata": {},
   "outputs": [
    {
     "data": {
      "text/plain": [
       "0    91\n",
       "1    69\n",
       "Name: Class, dtype: int64"
      ]
     },
     "execution_count": 14,
     "metadata": {},
     "output_type": "execute_result"
    }
   ],
   "source": [
    "y_test.value_counts()"
   ]
  },
  {
   "cell_type": "code",
   "execution_count": 15,
   "id": "e87fd8fe",
   "metadata": {},
   "outputs": [
    {
     "data": {
      "text/plain": [
       "0    71\n",
       "1    57\n",
       "Name: Class, dtype: int64"
      ]
     },
     "execution_count": 15,
     "metadata": {},
     "output_type": "execute_result"
    }
   ],
   "source": [
    "y_validation.value_counts()"
   ]
  },
  {
   "cell_type": "code",
   "execution_count": 16,
   "id": "165f5cd0",
   "metadata": {},
   "outputs": [],
   "source": [
    "#Converting into numpy arrays\n",
    "X_image_train_stacked = np.stack(x_train.values)\n",
    "X_image_validation_stacked = np.stack(x_validation.values)\n",
    "X_image_test_stacked = np.stack(x_test.values)"
   ]
  },
  {
   "cell_type": "code",
   "execution_count": 17,
   "id": "d8d8cf10",
   "metadata": {},
   "outputs": [
    {
     "name": "stdout",
     "output_type": "stream",
     "text": [
      "Epoch 1/10\n",
      "16/16 [==============================] - 16s 877ms/step - loss: 0.5105 - accuracy: 0.7819 - val_loss: 0.5448 - val_accuracy: 0.7344\n",
      "Epoch 2/10\n",
      "16/16 [==============================] - 13s 831ms/step - loss: 0.4460 - accuracy: 0.8075 - val_loss: 0.5601 - val_accuracy: 0.7344\n",
      "Epoch 3/10\n",
      "16/16 [==============================] - 13s 827ms/step - loss: 0.4426 - accuracy: 0.8114 - val_loss: 0.5556 - val_accuracy: 0.7344\n",
      "Epoch 4/10\n",
      "16/16 [==============================] - 13s 839ms/step - loss: 0.4481 - accuracy: 0.8094 - val_loss: 0.5439 - val_accuracy: 0.7344\n",
      "Epoch 5/10\n",
      "16/16 [==============================] - 13s 849ms/step - loss: 0.4355 - accuracy: 0.8173 - val_loss: 0.5707 - val_accuracy: 0.7344\n",
      "Epoch 6/10\n",
      "16/16 [==============================] - 14s 853ms/step - loss: 0.4315 - accuracy: 0.8134 - val_loss: 0.5763 - val_accuracy: 0.7344\n",
      "Epoch 7/10\n",
      "16/16 [==============================] - 13s 829ms/step - loss: 0.4497 - accuracy: 0.8094 - val_loss: 0.5652 - val_accuracy: 0.7344\n",
      "Epoch 8/10\n",
      "16/16 [==============================] - 13s 827ms/step - loss: 0.4441 - accuracy: 0.8094 - val_loss: 0.5317 - val_accuracy: 0.7344\n",
      "Epoch 9/10\n",
      "16/16 [==============================] - 13s 822ms/step - loss: 0.4373 - accuracy: 0.8094 - val_loss: 0.5267 - val_accuracy: 0.7344\n",
      "Epoch 10/10\n",
      "16/16 [==============================] - 13s 816ms/step - loss: 0.4301 - accuracy: 0.8094 - val_loss: 0.5311 - val_accuracy: 0.7344\n"
     ]
    }
   ],
   "source": [
    "#Training the model\n",
    "model = Sequential([layers.Conv2D(filters=32, kernel_size=(3,3), activation='relu'),\n",
    "  layers.MaxPooling2D(),\n",
    "  layers.Conv2D(filters=64, kernel_size=(3,3), activation='relu'),\n",
    "  layers.MaxPooling2D(),\n",
    "  layers.Conv2D(filters=128, kernel_size=(3,3), activation='relu'),\n",
    "  layers.MaxPooling2D(),\n",
    "                    \n",
    "  layers.Flatten(),\n",
    "  layers.Dense(256, activation='relu'),                \n",
    "  layers.Dense(128, activation='relu'),\n",
    "  layers.Dense(64, activation='relu'),\n",
    "  layers.Dense(2, activation='sigmoid')\n",
    "])\n",
    "\n",
    "model.compile(optimizer='adam', loss='sparse_categorical_crossentropy', metrics=['accuracy'])\n",
    "              \n",
    "hist=model.fit(X_image_train_stacked, y_train, epochs=10, validation_data=(X_image_validation_stacked,y_validation)) "
   ]
  },
  {
   "cell_type": "code",
   "execution_count": 18,
   "id": "5cdd313b",
   "metadata": {},
   "outputs": [
    {
     "data": {
      "image/png": "[encoded data removed]",
      "text/plain": [
       "<Figure size 432x288 with 1 Axes>"
      ]
     },
     "metadata": {
      "needs_background": "light"
     },
     "output_type": "display_data"
    }
   ],
   "source": [
    "fig = plt.figure()\n",
    "plt.plot(hist.history['loss'], color='teal', label='loss')\n",
    "plt.plot(hist.history['val_loss'], color='orange', label='val_loss')\n",
    "fig.suptitle('Loss vs Epoch', fontsize=20)\n",
    "plt.xlabel('Epoch')\n",
    "plt.ylabel('Loss')\n",
    "plt.legend(loc=\"upper left\")\n",
    "plt.show()"
   ]
  },
  {
   "cell_type": "code",
   "execution_count": 19,
   "id": "16d85064",
   "metadata": {},
   "outputs": [
    {
     "data": {
      "image/png": "[encoded data removed]",
      "text/plain": [
       "<Figure size 432x288 with 1 Axes>"
      ]
     },
     "metadata": {
      "needs_background": "light"
     },
     "output_type": "display_data"
    }
   ],
   "source": [
    "fig = plt.figure()\n",
    "plt.plot(hist.history['accuracy'], color='teal', label='accuracy')\n",
    "plt.plot(hist.history['val_accuracy'], color='orange', label='val_accuracy')\n",
    "fig.suptitle('Accuracy vs Epoch', fontsize=20)\n",
    "plt.xlabel('Epoch')\n",
    "plt.ylabel('Accuracy')\n",
    "plt.legend(loc=\"upper left\")\n",
    "plt.show()"
   ]
  },
  {
   "cell_type": "code",
   "execution_count": 20,
   "id": "31f4ce1c",
   "metadata": {},
   "outputs": [
    {
     "name": "stdout",
     "output_type": "stream",
     "text": [
      "5/5 [==============================] - 1s 167ms/step - loss: 0.4538 - accuracy: 0.7812\n"
     ]
    },
    {
     "data": {
      "text/plain": [
       "[0.453810453414917, 0.78125]"
      ]
     },
     "execution_count": 20,
     "metadata": {},
     "output_type": "execute_result"
    }
   ],
   "source": [
    "#Evaluating the accuracy of the model\n",
    "model.evaluate(X_image_test_stacked,y_test)"
   ]
  },
  {
   "cell_type": "code",
   "execution_count": 21,
   "id": "35142525",
   "metadata": {},
   "outputs": [
    {
     "name": "stdout",
     "output_type": "stream",
     "text": [
      "5/5 [==============================] - 1s 177ms/step\n"
     ]
    }
   ],
   "source": [
    "#Predicting fot the test data\n",
    "y_pred = model.predict(X_image_test_stacked)\n",
    "y_pred_conv = []\n",
    "for i in y_pred:\n",
    "    if i[0] > i[1]:\n",
    "        y_pred_conv.append(0)\n",
    "    else:\n",
    "        y_pred_conv.append(1)"
   ]
  },
  {
   "cell_type": "code",
   "execution_count": 22,
   "id": "e729b752",
   "metadata": {},
   "outputs": [
    {
     "name": "stdout",
     "output_type": "stream",
     "text": [
      "ACCURACY SCORE:  0.78125\n",
      "F1 score:  0.6601941747572816\n",
      "\n",
      "CLASSIFICATION REPORT:\n",
      "              precision    recall  f1-score   support\n",
      "\n",
      "           0       0.72      1.00      0.84        91\n",
      "           1       1.00      0.49      0.66        69\n",
      "\n",
      "    accuracy                           0.78       160\n",
      "   macro avg       0.86      0.75      0.75       160\n",
      "weighted avg       0.84      0.78      0.76       160\n",
      "\n",
      "CONFUSION MATRIX:\n"
     ]
    },
    {
     "data": {
      "image/png": "[encoded data removed]",
      "text/plain": [
       "<Figure size 432x288 with 2 Axes>"
      ]
     },
     "metadata": {
      "needs_background": "light"
     },
     "output_type": "display_data"
    }
   ],
   "source": [
    "#Plotting the confusion matrix and classification report\n",
    "from sklearn.metrics import accuracy_score\n",
    "from sklearn.metrics import classification_report \n",
    "from sklearn.metrics import confusion_matrix\n",
    "from sklearn.metrics import ConfusionMatrixDisplay\n",
    "from sklearn.metrics import f1_score\n",
    "\n",
    "print(\"ACCURACY SCORE: \", accuracy_score(y_test,y_pred_conv))\n",
    "print('F1 score: ', f1_score(y_test,y_pred_conv))\n",
    "print()\n",
    "print(\"CLASSIFICATION REPORT:\")\n",
    "print(classification_report(y_test,y_pred_conv))\n",
    "a = confusion_matrix(y_test,y_pred_conv)\n",
    "result = ConfusionMatrixDisplay(a)\n",
    "print(\"CONFUSION MATRIX:\")\n",
    "result.plot()\n",
    "plt.show()"
   ]
  }
 ],
 "metadata": {
  "kernelspec": {
   "display_name": "Python 3 (ipykernel)",
   "language": "python",
   "name": "python3"
  },
  "language_info": {
   "codemirror_mode": {
    "name": "ipython",
    "version": 3
   },
   "file_extension": ".py",
   "mimetype": "text/x-python",
   "name": "python",
   "nbconvert_exporter": "python",
   "pygments_lexer": "ipython3",
   "version": "3.9.12"
  }
 },
 "nbformat": 4,
 "nbformat_minor": 5
}
